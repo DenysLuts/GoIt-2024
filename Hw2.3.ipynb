{
 "cells": [
  {
   "cell_type": "code",
   "execution_count": 94,
   "id": "initial_id",
   "metadata": {
    "collapsed": true,
    "ExecuteTime": {
     "end_time": "2024-05-27T18:40:15.237077Z",
     "start_time": "2024-05-27T18:40:15.233831Z"
    }
   },
   "outputs": [],
   "source": [
    "import pandas as pd\n",
    "import matplotlib.pyplot as plt"
   ]
  },
  {
   "cell_type": "code",
   "outputs": [
    {
     "data": {
      "text/plain": "                                                  Name  \\\n0                        10-Day Green Smoothie Cleanse   \n1                                    11/22/63: A Novel   \n2              12 Rules for Life: An Antidote to Chaos   \n3                               1984 (Signet Classics)   \n4    5,000 Awesome Facts (About Everything!) (Natio...   \n..                                                 ...   \n545       Wrecking Ball (Diary of a Wimpy Kid Book 14)   \n546  You Are a Badass: How to Stop Doubting Your Gr...   \n547  You Are a Badass: How to Stop Doubting Your Gr...   \n548  You Are a Badass: How to Stop Doubting Your Gr...   \n549  You Are a Badass: How to Stop Doubting Your Gr...   \n\n                       Author  User Rating  Reviews  Price  Year        Genre  \n0                    JJ Smith          4.7    17350      8  2016  Non Fiction  \n1                Stephen King          4.6     2052     22  2011      Fiction  \n2          Jordan B. Peterson          4.7    18979     15  2018  Non Fiction  \n3               George Orwell          4.7    21424      6  2017      Fiction  \n4    National Geographic Kids          4.8     7665     12  2019  Non Fiction  \n..                        ...          ...      ...    ...   ...          ...  \n545               Jeff Kinney          4.9     9413      8  2019      Fiction  \n546               Jen Sincero          4.7    14331      8  2016  Non Fiction  \n547               Jen Sincero          4.7    14331      8  2017  Non Fiction  \n548               Jen Sincero          4.7    14331      8  2018  Non Fiction  \n549               Jen Sincero          4.7    14331      8  2019  Non Fiction  \n\n[550 rows x 7 columns]",
      "text/html": "<div>\n<style scoped>\n    .dataframe tbody tr th:only-of-type {\n        vertical-align: middle;\n    }\n\n    .dataframe tbody tr th {\n        vertical-align: top;\n    }\n\n    .dataframe thead th {\n        text-align: right;\n    }\n</style>\n<table border=\"1\" class=\"dataframe\">\n  <thead>\n    <tr style=\"text-align: right;\">\n      <th></th>\n      <th>Name</th>\n      <th>Author</th>\n      <th>User Rating</th>\n      <th>Reviews</th>\n      <th>Price</th>\n      <th>Year</th>\n      <th>Genre</th>\n    </tr>\n  </thead>\n  <tbody>\n    <tr>\n      <th>0</th>\n      <td>10-Day Green Smoothie Cleanse</td>\n      <td>JJ Smith</td>\n      <td>4.7</td>\n      <td>17350</td>\n      <td>8</td>\n      <td>2016</td>\n      <td>Non Fiction</td>\n    </tr>\n    <tr>\n      <th>1</th>\n      <td>11/22/63: A Novel</td>\n      <td>Stephen King</td>\n      <td>4.6</td>\n      <td>2052</td>\n      <td>22</td>\n      <td>2011</td>\n      <td>Fiction</td>\n    </tr>\n    <tr>\n      <th>2</th>\n      <td>12 Rules for Life: An Antidote to Chaos</td>\n      <td>Jordan B. Peterson</td>\n      <td>4.7</td>\n      <td>18979</td>\n      <td>15</td>\n      <td>2018</td>\n      <td>Non Fiction</td>\n    </tr>\n    <tr>\n      <th>3</th>\n      <td>1984 (Signet Classics)</td>\n      <td>George Orwell</td>\n      <td>4.7</td>\n      <td>21424</td>\n      <td>6</td>\n      <td>2017</td>\n      <td>Fiction</td>\n    </tr>\n    <tr>\n      <th>4</th>\n      <td>5,000 Awesome Facts (About Everything!) (Natio...</td>\n      <td>National Geographic Kids</td>\n      <td>4.8</td>\n      <td>7665</td>\n      <td>12</td>\n      <td>2019</td>\n      <td>Non Fiction</td>\n    </tr>\n    <tr>\n      <th>...</th>\n      <td>...</td>\n      <td>...</td>\n      <td>...</td>\n      <td>...</td>\n      <td>...</td>\n      <td>...</td>\n      <td>...</td>\n    </tr>\n    <tr>\n      <th>545</th>\n      <td>Wrecking Ball (Diary of a Wimpy Kid Book 14)</td>\n      <td>Jeff Kinney</td>\n      <td>4.9</td>\n      <td>9413</td>\n      <td>8</td>\n      <td>2019</td>\n      <td>Fiction</td>\n    </tr>\n    <tr>\n      <th>546</th>\n      <td>You Are a Badass: How to Stop Doubting Your Gr...</td>\n      <td>Jen Sincero</td>\n      <td>4.7</td>\n      <td>14331</td>\n      <td>8</td>\n      <td>2016</td>\n      <td>Non Fiction</td>\n    </tr>\n    <tr>\n      <th>547</th>\n      <td>You Are a Badass: How to Stop Doubting Your Gr...</td>\n      <td>Jen Sincero</td>\n      <td>4.7</td>\n      <td>14331</td>\n      <td>8</td>\n      <td>2017</td>\n      <td>Non Fiction</td>\n    </tr>\n    <tr>\n      <th>548</th>\n      <td>You Are a Badass: How to Stop Doubting Your Gr...</td>\n      <td>Jen Sincero</td>\n      <td>4.7</td>\n      <td>14331</td>\n      <td>8</td>\n      <td>2018</td>\n      <td>Non Fiction</td>\n    </tr>\n    <tr>\n      <th>549</th>\n      <td>You Are a Badass: How to Stop Doubting Your Gr...</td>\n      <td>Jen Sincero</td>\n      <td>4.7</td>\n      <td>14331</td>\n      <td>8</td>\n      <td>2019</td>\n      <td>Non Fiction</td>\n    </tr>\n  </tbody>\n</table>\n<p>550 rows × 7 columns</p>\n</div>"
     },
     "execution_count": 95,
     "metadata": {},
     "output_type": "execute_result"
    }
   ],
   "source": [
    "books = pd.read_csv('bestsellers with categories.csv')\n",
    "books"
   ],
   "metadata": {
    "collapsed": false,
    "ExecuteTime": {
     "end_time": "2024-05-27T18:40:15.276416Z",
     "start_time": "2024-05-27T18:40:15.263837Z"
    }
   },
   "id": "9c94b7dabb4f9ec",
   "execution_count": 95
  },
  {
   "cell_type": "code",
   "outputs": [
    {
     "data": {
      "text/plain": "<bound method NDFrame.head of                                                   Name  \\\n0                        10-Day Green Smoothie Cleanse   \n1                                    11/22/63: A Novel   \n2              12 Rules for Life: An Antidote to Chaos   \n3                               1984 (Signet Classics)   \n4    5,000 Awesome Facts (About Everything!) (Natio...   \n..                                                 ...   \n545       Wrecking Ball (Diary of a Wimpy Kid Book 14)   \n546  You Are a Badass: How to Stop Doubting Your Gr...   \n547  You Are a Badass: How to Stop Doubting Your Gr...   \n548  You Are a Badass: How to Stop Doubting Your Gr...   \n549  You Are a Badass: How to Stop Doubting Your Gr...   \n\n                       Author  User Rating  Reviews  Price  Year        Genre  \n0                    JJ Smith          4.7    17350      8  2016  Non Fiction  \n1                Stephen King          4.6     2052     22  2011      Fiction  \n2          Jordan B. Peterson          4.7    18979     15  2018  Non Fiction  \n3               George Orwell          4.7    21424      6  2017      Fiction  \n4    National Geographic Kids          4.8     7665     12  2019  Non Fiction  \n..                        ...          ...      ...    ...   ...          ...  \n545               Jeff Kinney          4.9     9413      8  2019      Fiction  \n546               Jen Sincero          4.7    14331      8  2016  Non Fiction  \n547               Jen Sincero          4.7    14331      8  2017  Non Fiction  \n548               Jen Sincero          4.7    14331      8  2018  Non Fiction  \n549               Jen Sincero          4.7    14331      8  2019  Non Fiction  \n\n[550 rows x 7 columns]>"
     },
     "execution_count": 96,
     "metadata": {},
     "output_type": "execute_result"
    }
   ],
   "source": [
    "books.head"
   ],
   "metadata": {
    "collapsed": false,
    "ExecuteTime": {
     "end_time": "2024-05-27T18:40:15.364582Z",
     "start_time": "2024-05-27T18:40:15.356842Z"
    }
   },
   "id": "482bd2aa26d89639",
   "execution_count": 96
  },
  {
   "cell_type": "code",
   "outputs": [
    {
     "data": {
      "text/plain": "(550, 7)"
     },
     "execution_count": 97,
     "metadata": {},
     "output_type": "execute_result"
    }
   ],
   "source": [
    "books.shape\n",
    "#Про скільки книг зберігає дані датасет?\n",
    "#Відповідь: 550 книг "
   ],
   "metadata": {
    "collapsed": false,
    "ExecuteTime": {
     "end_time": "2024-05-27T18:40:15.390699Z",
     "start_time": "2024-05-27T18:40:15.385969Z"
    }
   },
   "id": "6d4d7c5b5efb523b",
   "execution_count": 97
  },
  {
   "cell_type": "code",
   "outputs": [],
   "source": [
    "books.columns = ['name', 'author', 'user_rating', 'reviews', 'price', 'year', 'genre']\n"
   ],
   "metadata": {
    "collapsed": false,
    "ExecuteTime": {
     "end_time": "2024-05-27T18:40:15.436359Z",
     "start_time": "2024-05-27T18:40:15.432917Z"
    }
   },
   "id": "c6cf14204c21d909",
   "execution_count": 98
  },
  {
   "cell_type": "code",
   "outputs": [
    {
     "data": {
      "text/plain": "name           0\nauthor         0\nuser_rating    0\nreviews        0\nprice          0\nyear           0\ngenre          0\ndtype: int64"
     },
     "execution_count": 99,
     "metadata": {},
     "output_type": "execute_result"
    }
   ],
   "source": [
    "books.isnull().sum()\n",
    "#Чи є в якихось змінних пропуски? (Так / ні)\n",
    "#Відповідь: ні"
   ],
   "metadata": {
    "collapsed": false,
    "ExecuteTime": {
     "end_time": "2024-05-27T18:40:15.465526Z",
     "start_time": "2024-05-27T18:40:15.459768Z"
    }
   },
   "id": "f869cf29fd86f721",
   "execution_count": 99
  },
  {
   "cell_type": "code",
   "outputs": [
    {
     "data": {
      "text/plain": "array(['Non Fiction', 'Fiction'], dtype=object)"
     },
     "execution_count": 100,
     "metadata": {},
     "output_type": "execute_result"
    }
   ],
   "source": [
    "books['genre'].unique()\n",
    "#Які є унікальні жанри? \n",
    "#Відповідь: ні"
   ],
   "metadata": {
    "collapsed": false,
    "ExecuteTime": {
     "end_time": "2024-05-27T18:40:15.519713Z",
     "start_time": "2024-05-27T18:40:15.515105Z"
    }
   },
   "id": "a697dc387819fb5f",
   "execution_count": 100
  },
  {
   "cell_type": "code",
   "outputs": [
    {
     "data": {
      "text/plain": "<Figure size 1000x600 with 1 Axes>",
      "image/png": "[encoded data removed]"
     },
     "metadata": {},
     "output_type": "display_data"
    }
   ],
   "source": [
    "plt.figure(figsize=(10, 6))\n",
    "books['price'].hist(bins=20, edgecolor='black')\n",
    "plt.title('Розподіл цін на книги')\n",
    "plt.xlabel('Ціна')\n",
    "plt.ylabel('Кількість книг')\n",
    "plt.grid(False)\n",
    "plt.show()\n"
   ],
   "metadata": {
    "collapsed": false,
    "ExecuteTime": {
     "end_time": "2024-05-27T18:40:15.699792Z",
     "start_time": "2024-05-27T18:40:15.543694Z"
    }
   },
   "id": "23fa4b447dcd3c99",
   "execution_count": 101
  },
  {
   "cell_type": "code",
   "outputs": [
    {
     "name": "stdout",
     "output_type": "stream",
     "text": [
      "Object `ціна` not found.\n"
     ]
    }
   ],
   "source": [
    "books['price'].max()\n",
    "Відповідь: 105 Максимальна ціна?\n"
   ],
   "metadata": {
    "collapsed": false,
    "ExecuteTime": {
     "end_time": "2024-05-27T18:40:15.707166Z",
     "start_time": "2024-05-27T18:40:15.701783Z"
    }
   },
   "id": "51a91d24a4c1ab69",
   "execution_count": 102
  },
  {
   "cell_type": "code",
   "outputs": [
    {
     "data": {
      "text/plain": "0"
     },
     "execution_count": 103,
     "metadata": {},
     "output_type": "execute_result"
    }
   ],
   "source": [
    "books['price'].min()\n",
    "#Відповідь: 0 Мінімальна ціна?"
   ],
   "metadata": {
    "collapsed": false,
    "ExecuteTime": {
     "end_time": "2024-05-27T18:40:15.716361Z",
     "start_time": "2024-05-27T18:40:15.708160Z"
    }
   },
   "id": "92a3143f86c5bc13",
   "execution_count": 103
  },
  {
   "cell_type": "code",
   "outputs": [
    {
     "data": {
      "text/plain": "13.1"
     },
     "execution_count": 104,
     "metadata": {},
     "output_type": "execute_result"
    }
   ],
   "source": [
    "books['price'].mean()\n",
    "#Відповідь: 13.1 Середня ціна?"
   ],
   "metadata": {
    "collapsed": false,
    "ExecuteTime": {
     "end_time": "2024-05-27T18:40:15.723432Z",
     "start_time": "2024-05-27T18:40:15.717360Z"
    }
   },
   "id": "4ec72fc97900103d",
   "execution_count": 104
  },
  {
   "cell_type": "code",
   "outputs": [
    {
     "data": {
      "text/plain": "11.0"
     },
     "execution_count": 105,
     "metadata": {},
     "output_type": "execute_result"
    }
   ],
   "source": [
    "books['price'].median()\n",
    "#Відповідь: 11 Медіанна ціна?"
   ],
   "metadata": {
    "collapsed": false,
    "ExecuteTime": {
     "end_time": "2024-05-27T18:40:15.730024Z",
     "start_time": "2024-05-27T18:40:15.724420Z"
    }
   },
   "id": "e176cdf2f9f2953b",
   "execution_count": 105
  },
  {
   "cell_type": "code",
   "outputs": [
    {
     "data": {
      "text/plain": "4.9"
     },
     "execution_count": 106,
     "metadata": {},
     "output_type": "execute_result"
    }
   ],
   "source": [
    "books[\"user_rating\"].max()\n",
    "#Відповідь: Який рейтинг у датасеті найвищий? Відповідь: 4.9"
   ],
   "metadata": {
    "collapsed": false,
    "ExecuteTime": {
     "end_time": "2024-05-27T18:40:15.750570Z",
     "start_time": "2024-05-27T18:40:15.731754Z"
    }
   },
   "id": "c9b16aec2f114c29",
   "execution_count": 106
  },
  {
   "cell_type": "code",
   "outputs": [
    {
     "data": {
      "text/plain": "52"
     },
     "execution_count": 107,
     "metadata": {},
     "output_type": "execute_result"
    }
   ],
   "source": [
    "books_4_9 = books[books[\"user_rating\"] == 4.9]\n",
    "count_books_4_9 = books_4_9.shape[0]\n",
    "count_books_4_9\n",
    "# Відповідь: 52 книги\n"
   ],
   "metadata": {
    "collapsed": false,
    "ExecuteTime": {
     "end_time": "2024-05-27T18:40:15.756790Z",
     "start_time": "2024-05-27T18:40:15.751568Z"
    }
   },
   "id": "afa9023121e2efbb",
   "execution_count": 107
  },
  {
   "cell_type": "code",
   "outputs": [
    {
     "data": {
      "text/plain": "name           Where the Crawdads Sing\nauthor                     Delia Owens\nuser_rating                        4.8\nreviews                          87841\nprice                               15\nyear                              2019\ngenre                          Fiction\nName: 534, dtype: object"
     },
     "execution_count": 108,
     "metadata": {},
     "output_type": "execute_result"
    }
   ],
   "source": [
    "most_reviews_book = books.loc[books[\"reviews\"].idxmax()]\n",
    "most_reviews_book\n",
    "# Відповідь: 'Where the Crawdads Sing' by Delia Owens (посилаючись на книгу з найбільше відгуків)\n"
   ],
   "metadata": {
    "collapsed": false,
    "ExecuteTime": {
     "end_time": "2024-05-27T18:40:15.762708Z",
     "start_time": "2024-05-27T18:40:15.757783Z"
    }
   },
   "id": "1e639ddb2a229b4d",
   "execution_count": 108
  },
  {
   "cell_type": "code",
   "outputs": [
    {
     "data": {
      "text/plain": "name           Publication Manual of the American Psychologic...\nauthor                        American Psychological Association\nuser_rating                                                  4.5\nreviews                                                     8580\nprice                                                         46\nyear                                                        2015\ngenre                                                Non Fiction\nName: 277, dtype: object"
     },
     "execution_count": 109,
     "metadata": {},
     "output_type": "execute_result"
    }
   ],
   "source": [
    "books_2015_top50 = books[books[\"year\"] == 2015].nlargest(50, 'user_rating')\n",
    "most_expensive_2015 = books_2015_top50.loc[books_2015_top50[\"price\"].idxmax()]\n",
    "most_expensive_2015\n",
    "# Відповідь: 'Publication Manual of the American Psychological Association' (найдорожча книга 2015 року)\n"
   ],
   "metadata": {
    "collapsed": false,
    "ExecuteTime": {
     "end_time": "2024-05-27T18:40:15.869705Z",
     "start_time": "2024-05-27T18:40:15.857704Z"
    }
   },
   "id": "4f13af4c9bc99f4a",
   "execution_count": 109
  },
  {
   "cell_type": "code",
   "outputs": [
    {
     "data": {
      "text/plain": "20"
     },
     "execution_count": 110,
     "metadata": {},
     "output_type": "execute_result"
    }
   ],
   "source": [
    "books_2010_top50 = books[(books[\"year\"] == 2010) & (books[\"genre\"] == \"Fiction\")]\n",
    "count_fiction_2010 = books_2010_top50.shape[0]\n",
    "count_fiction_2010\n",
    "# Відповідь: 20 книг\n"
   ],
   "metadata": {
    "collapsed": false,
    "ExecuteTime": {
     "end_time": "2024-05-27T18:40:15.917248Z",
     "start_time": "2024-05-27T18:40:15.909712Z"
    }
   },
   "id": "91b22313cf377dc6",
   "execution_count": 110
  },
  {
   "cell_type": "code",
   "outputs": [
    {
     "data": {
      "text/plain": "1"
     },
     "execution_count": 111,
     "metadata": {},
     "output_type": "execute_result"
    }
   ],
   "source": [
    "books_4_9_2010_2011 = books[(books[\"user_rating\"] == 4.9) & (books[\"year\"].isin([2010, 2011]))]\n",
    "count_books_4_9_2010_2011 = books_4_9_2010_2011.shape[0]\n",
    "count_books_4_9_2010_2011\n",
    "# Відповідь: 1 книга\n",
    "\n"
   ],
   "metadata": {
    "collapsed": false,
    "ExecuteTime": {
     "end_time": "2024-05-27T18:40:16.029986Z",
     "start_time": "2024-05-27T18:40:16.022631Z"
    }
   },
   "id": "f6b2f64ec0ec3801",
   "execution_count": 111
  },
  {
   "cell_type": "code",
   "outputs": [
    {
     "data": {
      "text/plain": "name           Old School (Diary of a Wimpy Kid #10)\nauthor                                   Jeff Kinney\nuser_rating                                      4.8\nreviews                                         6169\nprice                                              7\nyear                                            2015\ngenre                                        Fiction\nName: 253, dtype: object"
     },
     "execution_count": 112,
     "metadata": {},
     "output_type": "execute_result"
    }
   ],
   "source": [
    "books_2015_under_8 = books[(books[\"year\"] == 2015) & (books[\"price\"] < 8)].sort_values(by=\"price\")\n",
    "last_book_under_8_2015 = books_2015_under_8.iloc[-1]\n",
    "last_book_under_8_2015\n",
    "# Відповідь: Old School (Diary of a Wimpy Kid #10)\n"
   ],
   "metadata": {
    "collapsed": false,
    "ExecuteTime": {
     "end_time": "2024-05-27T18:40:16.052600Z",
     "start_time": "2024-05-27T18:40:16.043979Z"
    }
   },
   "id": "3356040657ae70f6",
   "execution_count": 112
  },
  {
   "cell_type": "code",
   "outputs": [
    {
     "data": {
      "text/plain": "                                                  name              author  \\\n16   Adult Coloring Book: Stress Relieving Animal D...  Blue Star Coloring   \n17      Adult Coloring Book: Stress Relieving Patterns  Blue Star Coloring   \n28                        Baby Touch and Feel: Animals                  DK   \n54   Creative Haven Creative Cats Coloring Book (Ad...     Marjorie Sarnat   \n55   Creative Haven Owls Coloring Book (Adult Color...     Marjorie Sarnat   \n63                      Dear Zoo: A Lift-the-Flap Book        Rod Campbell   \n89   Dover Creative Haven Art Nouveau Animal Design...         Marty Noble   \n111                                    First 100 Words        Roger Priddy   \n123                               Giraffes Can't Dance       Giles Andreae   \n201  Killing Reagan: The Violent Assault That Chang...       Bill O'Reilly   \n206                         Knock-Knock Jokes for Kids         Rob Elliott   \n210                      Laugh-Out-Loud Jokes for Kids         Rob Elliott   \n224                                   Love You Forever       Robert Munsch   \n253              Old School (Diary of a Wimpy Kid #10)         Jeff Kinney   \n376  The Four Agreements: A Practical Guide to Pers...     Don Miguel Ruiz   \n478                        The Very Hungry Caterpillar          Eric Carle   \n507                              To Kill a Mockingbird          Harper Lee   \n\n     user_rating  reviews  price  year        genre  \n16           4.6     2925      6  2015  Non Fiction  \n17           4.4     2951      6  2015  Non Fiction  \n28           4.6     5360      5  2015  Non Fiction  \n54           4.8     4022      4  2015  Non Fiction  \n55           4.8     3871      5  2015  Non Fiction  \n63           4.8    10922      5  2015      Fiction  \n89           4.6     2134      5  2015  Non Fiction  \n111          4.7    17323      4  2015  Non Fiction  \n123          4.8    14038      4  2015      Fiction  \n201          4.6     5235      5  2015  Non Fiction  \n206          4.5     3673      4  2015  Non Fiction  \n210          4.6     6990      4  2015  Non Fiction  \n224          4.8    18613      5  2015      Fiction  \n253          4.8     6169      7  2015      Fiction  \n376          4.7    23308      6  2015  Non Fiction  \n478          4.9    19546      5  2015      Fiction  \n507          4.8    26234      0  2015      Fiction  ",
      "text/html": "<div>\n<style scoped>\n    .dataframe tbody tr th:only-of-type {\n        vertical-align: middle;\n    }\n\n    .dataframe tbody tr th {\n        vertical-align: top;\n    }\n\n    .dataframe thead th {\n        text-align: right;\n    }\n</style>\n<table border=\"1\" class=\"dataframe\">\n  <thead>\n    <tr style=\"text-align: right;\">\n      <th></th>\n      <th>name</th>\n      <th>author</th>\n      <th>user_rating</th>\n      <th>reviews</th>\n      <th>price</th>\n      <th>year</th>\n      <th>genre</th>\n    </tr>\n  </thead>\n  <tbody>\n    <tr>\n      <th>16</th>\n      <td>Adult Coloring Book: Stress Relieving Animal D...</td>\n      <td>Blue Star Coloring</td>\n      <td>4.6</td>\n      <td>2925</td>\n      <td>6</td>\n      <td>2015</td>\n      <td>Non Fiction</td>\n    </tr>\n    <tr>\n      <th>17</th>\n      <td>Adult Coloring Book: Stress Relieving Patterns</td>\n      <td>Blue Star Coloring</td>\n      <td>4.4</td>\n      <td>2951</td>\n      <td>6</td>\n      <td>2015</td>\n      <td>Non Fiction</td>\n    </tr>\n    <tr>\n      <th>28</th>\n      <td>Baby Touch and Feel: Animals</td>\n      <td>DK</td>\n      <td>4.6</td>\n      <td>5360</td>\n      <td>5</td>\n      <td>2015</td>\n      <td>Non Fiction</td>\n    </tr>\n    <tr>\n      <th>54</th>\n      <td>Creative Haven Creative Cats Coloring Book (Ad...</td>\n      <td>Marjorie Sarnat</td>\n      <td>4.8</td>\n      <td>4022</td>\n      <td>4</td>\n      <td>2015</td>\n      <td>Non Fiction</td>\n    </tr>\n    <tr>\n      <th>55</th>\n      <td>Creative Haven Owls Coloring Book (Adult Color...</td>\n      <td>Marjorie Sarnat</td>\n      <td>4.8</td>\n      <td>3871</td>\n      <td>5</td>\n      <td>2015</td>\n      <td>Non Fiction</td>\n    </tr>\n    <tr>\n      <th>63</th>\n      <td>Dear Zoo: A Lift-the-Flap Book</td>\n      <td>Rod Campbell</td>\n      <td>4.8</td>\n      <td>10922</td>\n      <td>5</td>\n      <td>2015</td>\n      <td>Fiction</td>\n    </tr>\n    <tr>\n      <th>89</th>\n      <td>Dover Creative Haven Art Nouveau Animal Design...</td>\n      <td>Marty Noble</td>\n      <td>4.6</td>\n      <td>2134</td>\n      <td>5</td>\n      <td>2015</td>\n      <td>Non Fiction</td>\n    </tr>\n    <tr>\n      <th>111</th>\n      <td>First 100 Words</td>\n      <td>Roger Priddy</td>\n      <td>4.7</td>\n      <td>17323</td>\n      <td>4</td>\n      <td>2015</td>\n      <td>Non Fiction</td>\n    </tr>\n    <tr>\n      <th>123</th>\n      <td>Giraffes Can't Dance</td>\n      <td>Giles Andreae</td>\n      <td>4.8</td>\n      <td>14038</td>\n      <td>4</td>\n      <td>2015</td>\n      <td>Fiction</td>\n    </tr>\n    <tr>\n      <th>201</th>\n      <td>Killing Reagan: The Violent Assault That Chang...</td>\n      <td>Bill O'Reilly</td>\n      <td>4.6</td>\n      <td>5235</td>\n      <td>5</td>\n      <td>2015</td>\n      <td>Non Fiction</td>\n    </tr>\n    <tr>\n      <th>206</th>\n      <td>Knock-Knock Jokes for Kids</td>\n      <td>Rob Elliott</td>\n      <td>4.5</td>\n      <td>3673</td>\n      <td>4</td>\n      <td>2015</td>\n      <td>Non Fiction</td>\n    </tr>\n    <tr>\n      <th>210</th>\n      <td>Laugh-Out-Loud Jokes for Kids</td>\n      <td>Rob Elliott</td>\n      <td>4.6</td>\n      <td>6990</td>\n      <td>4</td>\n      <td>2015</td>\n      <td>Non Fiction</td>\n    </tr>\n    <tr>\n      <th>224</th>\n      <td>Love You Forever</td>\n      <td>Robert Munsch</td>\n      <td>4.8</td>\n      <td>18613</td>\n      <td>5</td>\n      <td>2015</td>\n      <td>Fiction</td>\n    </tr>\n    <tr>\n      <th>253</th>\n      <td>Old School (Diary of a Wimpy Kid #10)</td>\n      <td>Jeff Kinney</td>\n      <td>4.8</td>\n      <td>6169</td>\n      <td>7</td>\n      <td>2015</td>\n      <td>Fiction</td>\n    </tr>\n    <tr>\n      <th>376</th>\n      <td>The Four Agreements: A Practical Guide to Pers...</td>\n      <td>Don Miguel Ruiz</td>\n      <td>4.7</td>\n      <td>23308</td>\n      <td>6</td>\n      <td>2015</td>\n      <td>Non Fiction</td>\n    </tr>\n    <tr>\n      <th>478</th>\n      <td>The Very Hungry Caterpillar</td>\n      <td>Eric Carle</td>\n      <td>4.9</td>\n      <td>19546</td>\n      <td>5</td>\n      <td>2015</td>\n      <td>Fiction</td>\n    </tr>\n    <tr>\n      <th>507</th>\n      <td>To Kill a Mockingbird</td>\n      <td>Harper Lee</td>\n      <td>4.8</td>\n      <td>26234</td>\n      <td>0</td>\n      <td>2015</td>\n      <td>Fiction</td>\n    </tr>\n  </tbody>\n</table>\n</div>"
     },
     "execution_count": 113,
     "metadata": {},
     "output_type": "execute_result"
    }
   ],
   "source": [
    "books_2015_under_8 = books[(books[\"year\"] == 2015) & (books[\"price\"] < 8)]\n",
    "books_2015_under_8"
   ],
   "metadata": {
    "collapsed": false,
    "ExecuteTime": {
     "end_time": "2024-05-27T18:40:16.081331Z",
     "start_time": "2024-05-27T18:40:16.066020Z"
    }
   },
   "id": "a6201a254ce60472",
   "execution_count": 113
  },
  {
   "cell_type": "code",
   "outputs": [
    {
     "data": {
      "text/plain": "         genre  min  max\n0      Fiction    0   82\n1  Non Fiction    0  105",
      "text/html": "<div>\n<style scoped>\n    .dataframe tbody tr th:only-of-type {\n        vertical-align: middle;\n    }\n\n    .dataframe tbody tr th {\n        vertical-align: top;\n    }\n\n    .dataframe thead th {\n        text-align: right;\n    }\n</style>\n<table border=\"1\" class=\"dataframe\">\n  <thead>\n    <tr style=\"text-align: right;\">\n      <th></th>\n      <th>genre</th>\n      <th>min</th>\n      <th>max</th>\n    </tr>\n  </thead>\n  <tbody>\n    <tr>\n      <th>0</th>\n      <td>Fiction</td>\n      <td>0</td>\n      <td>82</td>\n    </tr>\n    <tr>\n      <th>1</th>\n      <td>Non Fiction</td>\n      <td>0</td>\n      <td>105</td>\n    </tr>\n  </tbody>\n</table>\n</div>"
     },
     "execution_count": 114,
     "metadata": {},
     "output_type": "execute_result"
    }
   ],
   "source": [
    "price_stats = books.groupby('genre')['price'].agg(['min', 'max']).reset_index()\n",
    "price_stats\n",
    "#Відповідь: Максимальна ціна для жанру Fiction: Відповідь 82\n",
    "#Відповідь: Мінімальна ціна для жанру Fiction: Відповідь 0\n",
    "#Відповідь: Максимальна ціна для жанру Non Fiction: Відповідь 105\n",
    "#Відповідь: Мінімальна ціна для жанру Non Fiction: Відповідь 0"
   ],
   "metadata": {
    "collapsed": false,
    "ExecuteTime": {
     "end_time": "2024-05-27T18:40:16.149481Z",
     "start_time": "2024-05-27T18:40:16.137687Z"
    }
   },
   "id": "62ad831ca6d932ff",
   "execution_count": 114
  },
  {
   "cell_type": "code",
   "outputs": [
    {
     "data": {
      "text/plain": "                         author  book_count\n0              Abraham Verghese           2\n1                Adam Gasiewski           1\n2                 Adam Mansbach           1\n3                     Adir Levy           1\n4    Admiral William H. McRaven           1\n..                          ...         ...\n243             Walter Isaacson           3\n244               William Davis           2\n245            William P. Young           2\n246            Wizards RPG Team           3\n247                Zhi Gang Sha           2\n\n[248 rows x 2 columns]",
      "text/html": "<div>\n<style scoped>\n    .dataframe tbody tr th:only-of-type {\n        vertical-align: middle;\n    }\n\n    .dataframe tbody tr th {\n        vertical-align: top;\n    }\n\n    .dataframe thead th {\n        text-align: right;\n    }\n</style>\n<table border=\"1\" class=\"dataframe\">\n  <thead>\n    <tr style=\"text-align: right;\">\n      <th></th>\n      <th>author</th>\n      <th>book_count</th>\n    </tr>\n  </thead>\n  <tbody>\n    <tr>\n      <th>0</th>\n      <td>Abraham Verghese</td>\n      <td>2</td>\n    </tr>\n    <tr>\n      <th>1</th>\n      <td>Adam Gasiewski</td>\n      <td>1</td>\n    </tr>\n    <tr>\n      <th>2</th>\n      <td>Adam Mansbach</td>\n      <td>1</td>\n    </tr>\n    <tr>\n      <th>3</th>\n      <td>Adir Levy</td>\n      <td>1</td>\n    </tr>\n    <tr>\n      <th>4</th>\n      <td>Admiral William H. McRaven</td>\n      <td>1</td>\n    </tr>\n    <tr>\n      <th>...</th>\n      <td>...</td>\n      <td>...</td>\n    </tr>\n    <tr>\n      <th>243</th>\n      <td>Walter Isaacson</td>\n      <td>3</td>\n    </tr>\n    <tr>\n      <th>244</th>\n      <td>William Davis</td>\n      <td>2</td>\n    </tr>\n    <tr>\n      <th>245</th>\n      <td>William P. Young</td>\n      <td>2</td>\n    </tr>\n    <tr>\n      <th>246</th>\n      <td>Wizards RPG Team</td>\n      <td>3</td>\n    </tr>\n    <tr>\n      <th>247</th>\n      <td>Zhi Gang Sha</td>\n      <td>2</td>\n    </tr>\n  </tbody>\n</table>\n<p>248 rows × 2 columns</p>\n</div>"
     },
     "execution_count": 115,
     "metadata": {},
     "output_type": "execute_result"
    }
   ],
   "source": [
    "author_book_counts = books.groupby('author').agg(book_count=('name', 'count')).reset_index()\n",
    "author_book_counts\n",
    "#Відповідь: Якої розмірності вийшла таблиця? Відповідь: 248\n",
    "#Відповідь: Який автор має найбільше книг? Відповідь: Jeff Kinney\n",
    "#Відповідь: Скільки книг цього автора? Відповідь: 12"
   ],
   "metadata": {
    "collapsed": false,
    "ExecuteTime": {
     "end_time": "2024-05-27T18:40:16.177456Z",
     "start_time": "2024-05-27T18:40:16.159062Z"
    }
   },
   "id": "c2eb51ed8c1a6652",
   "execution_count": 115
  },
  {
   "cell_type": "code",
   "outputs": [
    {
     "data": {
      "text/plain": "                         author  avg_rating\n0              Abraham Verghese    4.600000\n1                Adam Gasiewski    4.400000\n2                 Adam Mansbach    4.800000\n3                     Adir Levy    4.800000\n4    Admiral William H. McRaven    4.700000\n..                          ...         ...\n243             Walter Isaacson    4.566667\n244               William Davis    4.400000\n245            William P. Young    4.600000\n246            Wizards RPG Team    4.800000\n247                Zhi Gang Sha    4.600000\n\n[248 rows x 2 columns]",
      "text/html": "<div>\n<style scoped>\n    .dataframe tbody tr th:only-of-type {\n        vertical-align: middle;\n    }\n\n    .dataframe tbody tr th {\n        vertical-align: top;\n    }\n\n    .dataframe thead th {\n        text-align: right;\n    }\n</style>\n<table border=\"1\" class=\"dataframe\">\n  <thead>\n    <tr style=\"text-align: right;\">\n      <th></th>\n      <th>author</th>\n      <th>avg_rating</th>\n    </tr>\n  </thead>\n  <tbody>\n    <tr>\n      <th>0</th>\n      <td>Abraham Verghese</td>\n      <td>4.600000</td>\n    </tr>\n    <tr>\n      <th>1</th>\n      <td>Adam Gasiewski</td>\n      <td>4.400000</td>\n    </tr>\n    <tr>\n      <th>2</th>\n      <td>Adam Mansbach</td>\n      <td>4.800000</td>\n    </tr>\n    <tr>\n      <th>3</th>\n      <td>Adir Levy</td>\n      <td>4.800000</td>\n    </tr>\n    <tr>\n      <th>4</th>\n      <td>Admiral William H. McRaven</td>\n      <td>4.700000</td>\n    </tr>\n    <tr>\n      <th>...</th>\n      <td>...</td>\n      <td>...</td>\n    </tr>\n    <tr>\n      <th>243</th>\n      <td>Walter Isaacson</td>\n      <td>4.566667</td>\n    </tr>\n    <tr>\n      <th>244</th>\n      <td>William Davis</td>\n      <td>4.400000</td>\n    </tr>\n    <tr>\n      <th>245</th>\n      <td>William P. Young</td>\n      <td>4.600000</td>\n    </tr>\n    <tr>\n      <th>246</th>\n      <td>Wizards RPG Team</td>\n      <td>4.800000</td>\n    </tr>\n    <tr>\n      <th>247</th>\n      <td>Zhi Gang Sha</td>\n      <td>4.600000</td>\n    </tr>\n  </tbody>\n</table>\n<p>248 rows × 2 columns</p>\n</div>"
     },
     "execution_count": 116,
     "metadata": {},
     "output_type": "execute_result"
    }
   ],
   "source": [
    "author_avg_rating = books.groupby('author').agg(avg_rating=('user_rating', 'mean')).reset_index()\n",
    "author_avg_rating"
   ],
   "metadata": {
    "collapsed": false,
    "ExecuteTime": {
     "end_time": "2024-05-27T18:40:16.222393Z",
     "start_time": "2024-05-27T18:40:16.209035Z"
    }
   },
   "id": "ca2936d3ef643088",
   "execution_count": 116
  },
  {
   "cell_type": "code",
   "outputs": [
    {
     "name": "stdout",
     "output_type": "stream",
     "text": [
      "У якого автора середній рейтинг мінімальний? Donna Tartt\n",
      "Який у цього автора середній рейтинг? 3.9\n"
     ]
    }
   ],
   "source": [
    "min_rating_author = author_avg_rating.loc[author_avg_rating['avg_rating'].idxmin()]\n",
    "print(\"У якого автора середній рейтинг мінімальний?\", min_rating_author['author'])\n",
    "print(\"Який у цього автора середній рейтинг?\", min_rating_author['avg_rating'])\n",
    "#Відповідь: У якого автора середній рейтинг мінімальний? Відповідь:Donna Tartt\n",
    "#Відповідь: Який у цього автора середній рейтинг? Відповідь: 3.9"
   ],
   "metadata": {
    "collapsed": false,
    "ExecuteTime": {
     "end_time": "2024-05-27T18:40:16.239418Z",
     "start_time": "2024-05-27T18:40:16.234719Z"
    }
   },
   "id": "d8fedd9181555cdf",
   "execution_count": 117
  },
  {
   "cell_type": "code",
   "outputs": [
    {
     "data": {
      "text/plain": "                                      author  book_count  avg_rating\n0                           Abraham Verghese         2.0         NaN\n1                             Adam Gasiewski         1.0         NaN\n2                              Adam Mansbach         1.0         NaN\n3                                  Adir Levy         1.0         NaN\n4                 Admiral William H. McRaven         1.0         NaN\n...                                      ...         ...         ...\nWalter Isaacson                          NaN         NaN    4.566667\nWilliam Davis                            NaN         NaN    4.400000\nWilliam P. Young                         NaN         NaN    4.600000\nWizards RPG Team                         NaN         NaN    4.800000\nZhi Gang Sha                             NaN         NaN    4.600000\n\n[496 rows x 3 columns]",
      "text/html": "<div>\n<style scoped>\n    .dataframe tbody tr th:only-of-type {\n        vertical-align: middle;\n    }\n\n    .dataframe tbody tr th {\n        vertical-align: top;\n    }\n\n    .dataframe thead th {\n        text-align: right;\n    }\n</style>\n<table border=\"1\" class=\"dataframe\">\n  <thead>\n    <tr style=\"text-align: right;\">\n      <th></th>\n      <th>author</th>\n      <th>book_count</th>\n      <th>avg_rating</th>\n    </tr>\n  </thead>\n  <tbody>\n    <tr>\n      <th>0</th>\n      <td>Abraham Verghese</td>\n      <td>2.0</td>\n      <td>NaN</td>\n    </tr>\n    <tr>\n      <th>1</th>\n      <td>Adam Gasiewski</td>\n      <td>1.0</td>\n      <td>NaN</td>\n    </tr>\n    <tr>\n      <th>2</th>\n      <td>Adam Mansbach</td>\n      <td>1.0</td>\n      <td>NaN</td>\n    </tr>\n    <tr>\n      <th>3</th>\n      <td>Adir Levy</td>\n      <td>1.0</td>\n      <td>NaN</td>\n    </tr>\n    <tr>\n      <th>4</th>\n      <td>Admiral William H. McRaven</td>\n      <td>1.0</td>\n      <td>NaN</td>\n    </tr>\n    <tr>\n      <th>...</th>\n      <td>...</td>\n      <td>...</td>\n      <td>...</td>\n    </tr>\n    <tr>\n      <th>Walter Isaacson</th>\n      <td>NaN</td>\n      <td>NaN</td>\n      <td>4.566667</td>\n    </tr>\n    <tr>\n      <th>William Davis</th>\n      <td>NaN</td>\n      <td>NaN</td>\n      <td>4.400000</td>\n    </tr>\n    <tr>\n      <th>William P. Young</th>\n      <td>NaN</td>\n      <td>NaN</td>\n      <td>4.600000</td>\n    </tr>\n    <tr>\n      <th>Wizards RPG Team</th>\n      <td>NaN</td>\n      <td>NaN</td>\n      <td>4.800000</td>\n    </tr>\n    <tr>\n      <th>Zhi Gang Sha</th>\n      <td>NaN</td>\n      <td>NaN</td>\n      <td>4.600000</td>\n    </tr>\n  </tbody>\n</table>\n<p>496 rows × 3 columns</p>\n</div>"
     },
     "execution_count": 118,
     "metadata": {},
     "output_type": "execute_result"
    }
   ],
   "source": [
    "combined_df = pd.concat([author_book_counts, author_avg_rating.set_index('author')], axis=1)\n",
    "combined_df"
   ],
   "metadata": {
    "collapsed": false,
    "ExecuteTime": {
     "end_time": "2024-05-27T18:40:16.317393Z",
     "start_time": "2024-05-27T18:40:16.302700Z"
    }
   },
   "id": "6a5fa677ab2146b9",
   "execution_count": 118
  },
  {
   "cell_type": "code",
   "outputs": [
    {
     "data": {
      "text/plain": "                                           author  book_count  avg_rating\n1                                  Adam Gasiewski         1.0         NaN\n2                                   Adam Mansbach         1.0         NaN\n3                                       Adir Levy         1.0         NaN\n4                      Admiral William H. McRaven         1.0         NaN\n5                     Adult Coloring Book Designs         1.0         NaN\n...                                           ...         ...         ...\nPatrick Thorpe                                NaN         NaN         4.9\nPete Souza                                    NaN         NaN         4.9\nRush Limbaugh                                 NaN         NaN         4.9\nSarah Young                                   NaN         NaN         4.9\nSherri Duskey Rinker                          NaN         NaN         4.9\n\n[496 rows x 3 columns]",
      "text/html": "<div>\n<style scoped>\n    .dataframe tbody tr th:only-of-type {\n        vertical-align: middle;\n    }\n\n    .dataframe tbody tr th {\n        vertical-align: top;\n    }\n\n    .dataframe thead th {\n        text-align: right;\n    }\n</style>\n<table border=\"1\" class=\"dataframe\">\n  <thead>\n    <tr style=\"text-align: right;\">\n      <th></th>\n      <th>author</th>\n      <th>book_count</th>\n      <th>avg_rating</th>\n    </tr>\n  </thead>\n  <tbody>\n    <tr>\n      <th>1</th>\n      <td>Adam Gasiewski</td>\n      <td>1.0</td>\n      <td>NaN</td>\n    </tr>\n    <tr>\n      <th>2</th>\n      <td>Adam Mansbach</td>\n      <td>1.0</td>\n      <td>NaN</td>\n    </tr>\n    <tr>\n      <th>3</th>\n      <td>Adir Levy</td>\n      <td>1.0</td>\n      <td>NaN</td>\n    </tr>\n    <tr>\n      <th>4</th>\n      <td>Admiral William H. McRaven</td>\n      <td>1.0</td>\n      <td>NaN</td>\n    </tr>\n    <tr>\n      <th>5</th>\n      <td>Adult Coloring Book Designs</td>\n      <td>1.0</td>\n      <td>NaN</td>\n    </tr>\n    <tr>\n      <th>...</th>\n      <td>...</td>\n      <td>...</td>\n      <td>...</td>\n    </tr>\n    <tr>\n      <th>Patrick Thorpe</th>\n      <td>NaN</td>\n      <td>NaN</td>\n      <td>4.9</td>\n    </tr>\n    <tr>\n      <th>Pete Souza</th>\n      <td>NaN</td>\n      <td>NaN</td>\n      <td>4.9</td>\n    </tr>\n    <tr>\n      <th>Rush Limbaugh</th>\n      <td>NaN</td>\n      <td>NaN</td>\n      <td>4.9</td>\n    </tr>\n    <tr>\n      <th>Sarah Young</th>\n      <td>NaN</td>\n      <td>NaN</td>\n      <td>4.9</td>\n    </tr>\n    <tr>\n      <th>Sherri Duskey Rinker</th>\n      <td>NaN</td>\n      <td>NaN</td>\n      <td>4.9</td>\n    </tr>\n  </tbody>\n</table>\n<p>496 rows × 3 columns</p>\n</div>"
     },
     "execution_count": 120,
     "metadata": {},
     "output_type": "execute_result"
    }
   ],
   "source": [
    "sorted_df = combined_df.sort_values(by=['book_count', 'avg_rating'])\n",
    "sorted_df"
   ],
   "metadata": {
    "collapsed": false,
    "ExecuteTime": {
     "end_time": "2024-05-27T18:40:24.254067Z",
     "start_time": "2024-05-27T18:40:24.241205Z"
    }
   },
   "id": "5eca45fadd9b243",
   "execution_count": 120
  }
 ],
 "metadata": {
  "kernelspec": {
   "display_name": "Python 3",
   "language": "python",
   "name": "python3"
  },
  "language_info": {
   "codemirror_mode": {
    "name": "ipython",
    "version": 2
   },
   "file_extension": ".py",
   "mimetype": "text/x-python",
   "name": "python",
   "nbconvert_exporter": "python",
   "pygments_lexer": "ipython2",
   "version": "2.7.6"
  }
 },
 "nbformat": 4,
 "nbformat_minor": 5
}
