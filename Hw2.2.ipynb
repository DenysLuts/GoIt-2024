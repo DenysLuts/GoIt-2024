{
 "cells": [
  {
   "cell_type": "code",
   "execution_count": 78,
   "id": "initial_id",
   "metadata": {
    "collapsed": true,
    "ExecuteTime": {
     "end_time": "2024-05-27T17:46:31.692357Z",
     "start_time": "2024-05-27T17:46:31.689244Z"
    }
   },
   "outputs": [],
   "source": [
    "import pandas as pd"
   ]
  },
  {
   "cell_type": "code",
   "outputs": [
    {
     "data": {
      "text/plain": "         N                    Посада Мова програмування Спеціалізація  \\\n0        1        Junior QA engineer                NaN     Manual QA   \n1        2        Junior QA engineer                NaN     Manual QA   \n2        3         Software Engineer            C#/.NET           NaN   \n3        4         Software Engineer         JavaScript           NaN   \n4        5  Senior Software Engineer         JavaScript           NaN   \n...    ...                       ...                ...           ...   \n8699  8700               QA engineer                NaN     Manual QA   \n8700  8701                 Marketing                NaN           NaN   \n8701  8702  Junior Software Engineer         Ruby/Rails           NaN   \n8702  8703                 Team lead                NaN           NaN   \n8703  8704  Senior Software Engineer               Java           NaN   \n\n     Загальний досвід роботи Досвід роботи на поточному місці  \\\n0                        0.5                              0.5   \n1            менше 3 місяців                  менше 3 місяців   \n2                          4                                1   \n3                          5                                4   \n4          10 і більше років                              0.5   \n...                      ...                              ...   \n8699                       1                  менше 3 місяців   \n8700                     0.5                              0.5   \n8701                       1                              0.5   \n8702                       6                                4   \n8703                       7                                2   \n\n      Зарплата на місяць  Зміна зарплати за 12 місяців   Місто  \\\n0                    400                             0  Харків   \n1                    430                           130  Харків   \n2                   2500                           800    Київ   \n3                   2000                           400   Одеса   \n4                   4500                           500    Інше   \n...                  ...                           ...     ...   \n8699                 700                           700   Одеса   \n8700                 400                           120    Київ   \n8701                 800                           500   Львів   \n8702                2600                             0  Дніпро   \n8703                5000                           800   Одеса   \n\n       Розмір компанії  ... Ще студент                    Рівень англійської  \\\n0           до 10 осіб  ...       True    Pre-intermediate (нище середнього)   \n1     більше 1000 осіб  ...       True  Upper-Intermediate (вище середнього)   \n2         до 1000 осіб  ...      False               Intermediate (середній)   \n3          до 200 осіб  ...      False    Pre-intermediate (нище середнього)   \n4           до 10 осіб  ...      False               Intermediate (середній)   \n...                ...  ...        ...                                   ...   \n8699        до 50 осіб  ...      False               Intermediate (середній)   \n8700        до 50 осіб  ...      False    Pre-intermediate (нище середнього)   \n8701        до 10 осіб  ...      False  Upper-Intermediate (вище середнього)   \n8702  більше 1000 осіб  ...      False                 Advanced (просунутий)   \n8703      до 1000 осіб  ...      False  Upper-Intermediate (вище середнього)   \n\n                      Предметна область      Дата заповнення  \\\n0                         iOS,eCommerce  2017-12-06 12:38:08   \n1                          Веб-розробка  2017-12-06 12:42:51   \n2     Веб-розробка,Корпоративні системи  2017-12-06 13:02:47   \n3     Desktop Applications,Веб-розробка  2017-12-06 13:03:01   \n4     Desktop Applications,Веб-розробка  2017-12-06 13:03:47   \n...                                 ...                  ...   \n8699       Android,Desktop Applications  2017-12-07 15:45:24   \n8700                          eCommerce  2017-12-07 17:00:06   \n8701  Веб-розробка,Корпоративні системи  2017-12-07 17:32:26   \n8702                 Фінанси та банкінг  2017-12-07 18:14:59   \n8703                       Веб-розробка  2017-12-07 21:28:57   \n\n                                             User.Agent   exp current_job_exp  \\\n0     Mozilla/5.0 (Windows NT 10.0; Win64; x64) Appl...   0.5             0.5   \n1     Mozilla/5.0 (iPad; CPU OS 10_2_1 like Mac OS X...   0.0             0.0   \n2     Mozilla/5.0 (Windows NT 10.0; Win64; x64) Appl...   4.0             1.0   \n3     Mozilla/5.0 (Windows NT 6.1; Win64; x64) Apple...   5.0             4.0   \n4     Mozilla/5.0 (iPhone; CPU iPhone OS 10_3_2 like...  10.0             0.5   \n...                                                 ...   ...             ...   \n8699  Mozilla/5.0 (X11; Ubuntu; Linux x86_64; rv:54....   1.0             0.0   \n8700  Mozilla/5.0 (Windows NT 10.0; Win64; x64) Appl...   0.5             0.5   \n8701  Mozilla/5.0 (X11; Linux x86_64) AppleWebKit/53...   1.0             0.5   \n8702  Mozilla/5.0 (Windows NT 6.1) AppleWebKit/537.3...   6.0             4.0   \n8703  Mozilla/5.0 (iPad; CPU OS 10_3_2 like Mac OS X...   7.0             2.0   \n\n     salary Валюта  cls  \n0       400    NaN   QA  \n1       430    NaN   QA  \n2      2500    NaN  DEV  \n3      2000    NaN  DEV  \n4      4500    NaN  DEV  \n...     ...    ...  ...  \n8699    700    NaN   QA  \n8700    400    NaN  NaN  \n8701    800    NaN  DEV  \n8702   2600    NaN   PM  \n8703   5000    NaN  DEV  \n\n[8704 rows x 25 columns]",
      "text/html": "<div>\n<style scoped>\n    .dataframe tbody tr th:only-of-type {\n        vertical-align: middle;\n    }\n\n    .dataframe tbody tr th {\n        vertical-align: top;\n    }\n\n    .dataframe thead th {\n        text-align: right;\n    }\n</style>\n<table border=\"1\" class=\"dataframe\">\n  <thead>\n    <tr style=\"text-align: right;\">\n      <th></th>\n      <th>N</th>\n      <th>Посада</th>\n      <th>Мова програмування</th>\n      <th>Спеціалізація</th>\n      <th>Загальний досвід роботи</th>\n      <th>Досвід роботи на поточному місці</th>\n      <th>Зарплата на місяць</th>\n      <th>Зміна зарплати за 12 місяців</th>\n      <th>Місто</th>\n      <th>Розмір компанії</th>\n      <th>...</th>\n      <th>Ще студент</th>\n      <th>Рівень англійської</th>\n      <th>Предметна область</th>\n      <th>Дата заповнення</th>\n      <th>User.Agent</th>\n      <th>exp</th>\n      <th>current_job_exp</th>\n      <th>salary</th>\n      <th>Валюта</th>\n      <th>cls</th>\n    </tr>\n  </thead>\n  <tbody>\n    <tr>\n      <th>0</th>\n      <td>1</td>\n      <td>Junior QA engineer</td>\n      <td>NaN</td>\n      <td>Manual QA</td>\n      <td>0.5</td>\n      <td>0.5</td>\n      <td>400</td>\n      <td>0</td>\n      <td>Харків</td>\n      <td>до 10 осіб</td>\n      <td>...</td>\n      <td>True</td>\n      <td>Pre-intermediate (нище середнього)</td>\n      <td>iOS,eCommerce</td>\n      <td>2017-12-06 12:38:08</td>\n      <td>Mozilla/5.0 (Windows NT 10.0; Win64; x64) Appl...</td>\n      <td>0.5</td>\n      <td>0.5</td>\n      <td>400</td>\n      <td>NaN</td>\n      <td>QA</td>\n    </tr>\n    <tr>\n      <th>1</th>\n      <td>2</td>\n      <td>Junior QA engineer</td>\n      <td>NaN</td>\n      <td>Manual QA</td>\n      <td>менше 3 місяців</td>\n      <td>менше 3 місяців</td>\n      <td>430</td>\n      <td>130</td>\n      <td>Харків</td>\n      <td>більше 1000 осіб</td>\n      <td>...</td>\n      <td>True</td>\n      <td>Upper-Intermediate (вище середнього)</td>\n      <td>Веб-розробка</td>\n      <td>2017-12-06 12:42:51</td>\n      <td>Mozilla/5.0 (iPad; CPU OS 10_2_1 like Mac OS X...</td>\n      <td>0.0</td>\n      <td>0.0</td>\n      <td>430</td>\n      <td>NaN</td>\n      <td>QA</td>\n    </tr>\n    <tr>\n      <th>2</th>\n      <td>3</td>\n      <td>Software Engineer</td>\n      <td>C#/.NET</td>\n      <td>NaN</td>\n      <td>4</td>\n      <td>1</td>\n      <td>2500</td>\n      <td>800</td>\n      <td>Київ</td>\n      <td>до 1000 осіб</td>\n      <td>...</td>\n      <td>False</td>\n      <td>Intermediate (середній)</td>\n      <td>Веб-розробка,Корпоративні системи</td>\n      <td>2017-12-06 13:02:47</td>\n      <td>Mozilla/5.0 (Windows NT 10.0; Win64; x64) Appl...</td>\n      <td>4.0</td>\n      <td>1.0</td>\n      <td>2500</td>\n      <td>NaN</td>\n      <td>DEV</td>\n    </tr>\n    <tr>\n      <th>3</th>\n      <td>4</td>\n      <td>Software Engineer</td>\n      <td>JavaScript</td>\n      <td>NaN</td>\n      <td>5</td>\n      <td>4</td>\n      <td>2000</td>\n      <td>400</td>\n      <td>Одеса</td>\n      <td>до 200 осіб</td>\n      <td>...</td>\n      <td>False</td>\n      <td>Pre-intermediate (нище середнього)</td>\n      <td>Desktop Applications,Веб-розробка</td>\n      <td>2017-12-06 13:03:01</td>\n      <td>Mozilla/5.0 (Windows NT 6.1; Win64; x64) Apple...</td>\n      <td>5.0</td>\n      <td>4.0</td>\n      <td>2000</td>\n      <td>NaN</td>\n      <td>DEV</td>\n    </tr>\n    <tr>\n      <th>4</th>\n      <td>5</td>\n      <td>Senior Software Engineer</td>\n      <td>JavaScript</td>\n      <td>NaN</td>\n      <td>10 і більше років</td>\n      <td>0.5</td>\n      <td>4500</td>\n      <td>500</td>\n      <td>Інше</td>\n      <td>до 10 осіб</td>\n      <td>...</td>\n      <td>False</td>\n      <td>Intermediate (середній)</td>\n      <td>Desktop Applications,Веб-розробка</td>\n      <td>2017-12-06 13:03:47</td>\n      <td>Mozilla/5.0 (iPhone; CPU iPhone OS 10_3_2 like...</td>\n      <td>10.0</td>\n      <td>0.5</td>\n      <td>4500</td>\n      <td>NaN</td>\n      <td>DEV</td>\n    </tr>\n    <tr>\n      <th>...</th>\n      <td>...</td>\n      <td>...</td>\n      <td>...</td>\n      <td>...</td>\n      <td>...</td>\n      <td>...</td>\n      <td>...</td>\n      <td>...</td>\n      <td>...</td>\n      <td>...</td>\n      <td>...</td>\n      <td>...</td>\n      <td>...</td>\n      <td>...</td>\n      <td>...</td>\n      <td>...</td>\n      <td>...</td>\n      <td>...</td>\n      <td>...</td>\n      <td>...</td>\n      <td>...</td>\n    </tr>\n    <tr>\n      <th>8699</th>\n      <td>8700</td>\n      <td>QA engineer</td>\n      <td>NaN</td>\n      <td>Manual QA</td>\n      <td>1</td>\n      <td>менше 3 місяців</td>\n      <td>700</td>\n      <td>700</td>\n      <td>Одеса</td>\n      <td>до 50 осіб</td>\n      <td>...</td>\n      <td>False</td>\n      <td>Intermediate (середній)</td>\n      <td>Android,Desktop Applications</td>\n      <td>2017-12-07 15:45:24</td>\n      <td>Mozilla/5.0 (X11; Ubuntu; Linux x86_64; rv:54....</td>\n      <td>1.0</td>\n      <td>0.0</td>\n      <td>700</td>\n      <td>NaN</td>\n      <td>QA</td>\n    </tr>\n    <tr>\n      <th>8700</th>\n      <td>8701</td>\n      <td>Marketing</td>\n      <td>NaN</td>\n      <td>NaN</td>\n      <td>0.5</td>\n      <td>0.5</td>\n      <td>400</td>\n      <td>120</td>\n      <td>Київ</td>\n      <td>до 50 осіб</td>\n      <td>...</td>\n      <td>False</td>\n      <td>Pre-intermediate (нище середнього)</td>\n      <td>eCommerce</td>\n      <td>2017-12-07 17:00:06</td>\n      <td>Mozilla/5.0 (Windows NT 10.0; Win64; x64) Appl...</td>\n      <td>0.5</td>\n      <td>0.5</td>\n      <td>400</td>\n      <td>NaN</td>\n      <td>NaN</td>\n    </tr>\n    <tr>\n      <th>8701</th>\n      <td>8702</td>\n      <td>Junior Software Engineer</td>\n      <td>Ruby/Rails</td>\n      <td>NaN</td>\n      <td>1</td>\n      <td>0.5</td>\n      <td>800</td>\n      <td>500</td>\n      <td>Львів</td>\n      <td>до 10 осіб</td>\n      <td>...</td>\n      <td>False</td>\n      <td>Upper-Intermediate (вище середнього)</td>\n      <td>Веб-розробка,Корпоративні системи</td>\n      <td>2017-12-07 17:32:26</td>\n      <td>Mozilla/5.0 (X11; Linux x86_64) AppleWebKit/53...</td>\n      <td>1.0</td>\n      <td>0.5</td>\n      <td>800</td>\n      <td>NaN</td>\n      <td>DEV</td>\n    </tr>\n    <tr>\n      <th>8702</th>\n      <td>8703</td>\n      <td>Team lead</td>\n      <td>NaN</td>\n      <td>NaN</td>\n      <td>6</td>\n      <td>4</td>\n      <td>2600</td>\n      <td>0</td>\n      <td>Дніпро</td>\n      <td>більше 1000 осіб</td>\n      <td>...</td>\n      <td>False</td>\n      <td>Advanced (просунутий)</td>\n      <td>Фінанси та банкінг</td>\n      <td>2017-12-07 18:14:59</td>\n      <td>Mozilla/5.0 (Windows NT 6.1) AppleWebKit/537.3...</td>\n      <td>6.0</td>\n      <td>4.0</td>\n      <td>2600</td>\n      <td>NaN</td>\n      <td>PM</td>\n    </tr>\n    <tr>\n      <th>8703</th>\n      <td>8704</td>\n      <td>Senior Software Engineer</td>\n      <td>Java</td>\n      <td>NaN</td>\n      <td>7</td>\n      <td>2</td>\n      <td>5000</td>\n      <td>800</td>\n      <td>Одеса</td>\n      <td>до 1000 осіб</td>\n      <td>...</td>\n      <td>False</td>\n      <td>Upper-Intermediate (вище середнього)</td>\n      <td>Веб-розробка</td>\n      <td>2017-12-07 21:28:57</td>\n      <td>Mozilla/5.0 (iPad; CPU OS 10_3_2 like Mac OS X...</td>\n      <td>7.0</td>\n      <td>2.0</td>\n      <td>5000</td>\n      <td>NaN</td>\n      <td>DEV</td>\n    </tr>\n  </tbody>\n</table>\n<p>8704 rows × 25 columns</p>\n</div>"
     },
     "execution_count": 79,
     "metadata": {},
     "output_type": "execute_result"
    }
   ],
   "source": [
    "jun = pd.read_excel(\"2017_jun_final.xlsx\")\n",
    "\n",
    "jun"
   ],
   "metadata": {
    "collapsed": false,
    "ExecuteTime": {
     "end_time": "2024-05-27T17:46:35.149851Z",
     "start_time": "2024-05-27T17:46:31.709322Z"
    }
   },
   "id": "24caac3d88ef2f41",
   "execution_count": 79
  },
  {
   "cell_type": "code",
   "outputs": [
    {
     "data": {
      "text/plain": "<bound method NDFrame.head of          N                    Посада Мова програмування Спеціалізація  \\\n0        1        Junior QA engineer                NaN     Manual QA   \n1        2        Junior QA engineer                NaN     Manual QA   \n2        3         Software Engineer            C#/.NET           NaN   \n3        4         Software Engineer         JavaScript           NaN   \n4        5  Senior Software Engineer         JavaScript           NaN   \n...    ...                       ...                ...           ...   \n8699  8700               QA engineer                NaN     Manual QA   \n8700  8701                 Marketing                NaN           NaN   \n8701  8702  Junior Software Engineer         Ruby/Rails           NaN   \n8702  8703                 Team lead                NaN           NaN   \n8703  8704  Senior Software Engineer               Java           NaN   \n\n     Загальний досвід роботи Досвід роботи на поточному місці  \\\n0                        0.5                              0.5   \n1            менше 3 місяців                  менше 3 місяців   \n2                          4                                1   \n3                          5                                4   \n4          10 і більше років                              0.5   \n...                      ...                              ...   \n8699                       1                  менше 3 місяців   \n8700                     0.5                              0.5   \n8701                       1                              0.5   \n8702                       6                                4   \n8703                       7                                2   \n\n      Зарплата на місяць  Зміна зарплати за 12 місяців   Місто  \\\n0                    400                             0  Харків   \n1                    430                           130  Харків   \n2                   2500                           800    Київ   \n3                   2000                           400   Одеса   \n4                   4500                           500    Інше   \n...                  ...                           ...     ...   \n8699                 700                           700   Одеса   \n8700                 400                           120    Київ   \n8701                 800                           500   Львів   \n8702                2600                             0  Дніпро   \n8703                5000                           800   Одеса   \n\n       Розмір компанії  ... Ще студент                    Рівень англійської  \\\n0           до 10 осіб  ...       True    Pre-intermediate (нище середнього)   \n1     більше 1000 осіб  ...       True  Upper-Intermediate (вище середнього)   \n2         до 1000 осіб  ...      False               Intermediate (середній)   \n3          до 200 осіб  ...      False    Pre-intermediate (нище середнього)   \n4           до 10 осіб  ...      False               Intermediate (середній)   \n...                ...  ...        ...                                   ...   \n8699        до 50 осіб  ...      False               Intermediate (середній)   \n8700        до 50 осіб  ...      False    Pre-intermediate (нище середнього)   \n8701        до 10 осіб  ...      False  Upper-Intermediate (вище середнього)   \n8702  більше 1000 осіб  ...      False                 Advanced (просунутий)   \n8703      до 1000 осіб  ...      False  Upper-Intermediate (вище середнього)   \n\n                      Предметна область      Дата заповнення  \\\n0                         iOS,eCommerce  2017-12-06 12:38:08   \n1                          Веб-розробка  2017-12-06 12:42:51   \n2     Веб-розробка,Корпоративні системи  2017-12-06 13:02:47   \n3     Desktop Applications,Веб-розробка  2017-12-06 13:03:01   \n4     Desktop Applications,Веб-розробка  2017-12-06 13:03:47   \n...                                 ...                  ...   \n8699       Android,Desktop Applications  2017-12-07 15:45:24   \n8700                          eCommerce  2017-12-07 17:00:06   \n8701  Веб-розробка,Корпоративні системи  2017-12-07 17:32:26   \n8702                 Фінанси та банкінг  2017-12-07 18:14:59   \n8703                       Веб-розробка  2017-12-07 21:28:57   \n\n                                             User.Agent   exp current_job_exp  \\\n0     Mozilla/5.0 (Windows NT 10.0; Win64; x64) Appl...   0.5             0.5   \n1     Mozilla/5.0 (iPad; CPU OS 10_2_1 like Mac OS X...   0.0             0.0   \n2     Mozilla/5.0 (Windows NT 10.0; Win64; x64) Appl...   4.0             1.0   \n3     Mozilla/5.0 (Windows NT 6.1; Win64; x64) Apple...   5.0             4.0   \n4     Mozilla/5.0 (iPhone; CPU iPhone OS 10_3_2 like...  10.0             0.5   \n...                                                 ...   ...             ...   \n8699  Mozilla/5.0 (X11; Ubuntu; Linux x86_64; rv:54....   1.0             0.0   \n8700  Mozilla/5.0 (Windows NT 10.0; Win64; x64) Appl...   0.5             0.5   \n8701  Mozilla/5.0 (X11; Linux x86_64) AppleWebKit/53...   1.0             0.5   \n8702  Mozilla/5.0 (Windows NT 6.1) AppleWebKit/537.3...   6.0             4.0   \n8703  Mozilla/5.0 (iPad; CPU OS 10_3_2 like Mac OS X...   7.0             2.0   \n\n     salary Валюта  cls  \n0       400    NaN   QA  \n1       430    NaN   QA  \n2      2500    NaN  DEV  \n3      2000    NaN  DEV  \n4      4500    NaN  DEV  \n...     ...    ...  ...  \n8699    700    NaN   QA  \n8700    400    NaN  NaN  \n8701    800    NaN  DEV  \n8702   2600    NaN   PM  \n8703   5000    NaN  DEV  \n\n[8704 rows x 25 columns]>"
     },
     "execution_count": 80,
     "metadata": {},
     "output_type": "execute_result"
    }
   ],
   "source": [
    "jun.head"
   ],
   "metadata": {
    "collapsed": false,
    "ExecuteTime": {
     "end_time": "2024-05-27T17:46:35.164966Z",
     "start_time": "2024-05-27T17:46:35.150850Z"
    }
   },
   "id": "7949ef9565faa309",
   "execution_count": 80
  },
  {
   "cell_type": "code",
   "outputs": [
    {
     "data": {
      "text/plain": "(8704, 25)"
     },
     "execution_count": 81,
     "metadata": {},
     "output_type": "execute_result"
    }
   ],
   "source": [
    "jun.shape"
   ],
   "metadata": {
    "collapsed": false,
    "ExecuteTime": {
     "end_time": "2024-05-27T17:46:35.171152Z",
     "start_time": "2024-05-27T17:46:35.165966Z"
    }
   },
   "id": "8c5eb25bb4601b98",
   "execution_count": 81
  },
  {
   "cell_type": "code",
   "outputs": [
    {
     "data": {
      "text/plain": "N                                     int64\nПосада                               object\nМова програмування                   object\nСпеціалізація                        object\nЗагальний досвід роботи              object\nДосвід роботи на поточному місці     object\nЗарплата на місяць                    int64\nЗміна зарплати за 12 місяців          int64\nМісто                                object\nРозмір компанії                      object\nТип компанії                         object\nСтать                                object\nВік                                   int64\nОсвіта                               object\nУніверситет                          object\nЩе студент                             bool\nРівень англійської                   object\nПредметна область                    object\nДата заповнення                      object\nUser.Agent                           object\nexp                                 float64\ncurrent_job_exp                     float64\nsalary                                int64\nВалюта                               object\ncls                                  object\ndtype: object"
     },
     "execution_count": 82,
     "metadata": {},
     "output_type": "execute_result"
    }
   ],
   "source": [
    "jun.dtypes"
   ],
   "metadata": {
    "collapsed": false,
    "ExecuteTime": {
     "end_time": "2024-05-27T17:46:35.180237Z",
     "start_time": "2024-05-27T17:46:35.173136Z"
    }
   },
   "id": "18824715239578f3",
   "execution_count": 82
  },
  {
   "cell_type": "code",
   "outputs": [
    {
     "data": {
      "text/plain": "N                                      0\nПосада                                 0\nМова програмування                  3850\nСпеціалізація                       7219\nЗагальний досвід роботи                0\nДосвід роботи на поточному місці       0\nЗарплата на місяць                     0\nЗміна зарплати за 12 місяців           0\nМісто                                  0\nРозмір компанії                        0\nТип компанії                           0\nСтать                                  0\nВік                                    0\nОсвіта                                 0\nУніверситет                          358\nЩе студент                             0\nРівень англійської                     0\nПредметна область                    223\nДата заповнення                        0\nUser.Agent                             0\nexp                                    0\ncurrent_job_exp                        0\nsalary                                 0\nВалюта                              8694\ncls                                 1574\ndtype: int64"
     },
     "execution_count": 83,
     "metadata": {},
     "output_type": "execute_result"
    }
   ],
   "source": [
    "jun.isnull().sum()"
   ],
   "metadata": {
    "collapsed": false,
    "ExecuteTime": {
     "end_time": "2024-05-27T17:46:35.192338Z",
     "start_time": "2024-05-27T17:46:35.182228Z"
    }
   },
   "id": "33945a995e1b781d",
   "execution_count": 83
  },
  {
   "cell_type": "code",
   "outputs": [
    {
     "data": {
      "text/plain": "         N                    Посада Мова програмування  \\\n0        1        Junior QA engineer                NaN   \n1        2        Junior QA engineer                NaN   \n2        3         Software Engineer            C#/.NET   \n3        4         Software Engineer         JavaScript   \n4        5  Senior Software Engineer         JavaScript   \n...    ...                       ...                ...   \n8699  8700               QA engineer                NaN   \n8700  8701                 Marketing                NaN   \n8701  8702  Junior Software Engineer         Ruby/Rails   \n8702  8703                 Team lead                NaN   \n8703  8704  Senior Software Engineer               Java   \n\n     Загальний досвід роботи Досвід роботи на поточному місці  \\\n0                        0.5                              0.5   \n1            менше 3 місяців                  менше 3 місяців   \n2                          4                                1   \n3                          5                                4   \n4          10 і більше років                              0.5   \n...                      ...                              ...   \n8699                       1                  менше 3 місяців   \n8700                     0.5                              0.5   \n8701                       1                              0.5   \n8702                       6                                4   \n8703                       7                                2   \n\n      Зарплата на місяць  Зміна зарплати за 12 місяців   Місто  \\\n0                    400                             0  Харків   \n1                    430                           130  Харків   \n2                   2500                           800    Київ   \n3                   2000                           400   Одеса   \n4                   4500                           500    Інше   \n...                  ...                           ...     ...   \n8699                 700                           700   Одеса   \n8700                 400                           120    Київ   \n8701                 800                           500   Львів   \n8702                2600                             0  Дніпро   \n8703                5000                           800   Одеса   \n\n       Розмір компанії   Тип компанії     Стать  Вік             Освіта  \\\n0           до 10 осіб  Аутсорсингова    жіноча   20       Неповна Вища   \n1     більше 1000 осіб  Аутсорсингова    жіноча   21       Неповна Вища   \n2         до 1000 осіб  Аутсорсингова  чоловіча   26               Вища   \n3          до 200 осіб     Продуктова  чоловіча   30            Середня   \n4           до 10 осіб     Продуктова  чоловіча   30  Технікум / Коледж   \n...                ...            ...       ...  ...                ...   \n8699        до 50 осіб  Аутсорсингова  чоловіча   23               Вища   \n8700        до 50 осіб     Продуктова    жіноча   22               Вища   \n8701        до 10 осіб  Аутстафінгова  чоловіча   30       Неповна Вища   \n8702  більше 1000 осіб  Аутсорсингова  чоловіча   34               Вища   \n8703      до 1000 осіб     Продуктова  чоловіча   28               Вища   \n\n      Ще студент                    Рівень англійської      Дата заповнення  \\\n0           True    Pre-intermediate (нище середнього)  2017-12-06 12:38:08   \n1           True  Upper-Intermediate (вище середнього)  2017-12-06 12:42:51   \n2          False               Intermediate (середній)  2017-12-06 13:02:47   \n3          False    Pre-intermediate (нище середнього)  2017-12-06 13:03:01   \n4          False               Intermediate (середній)  2017-12-06 13:03:47   \n...          ...                                   ...                  ...   \n8699       False               Intermediate (середній)  2017-12-07 15:45:24   \n8700       False    Pre-intermediate (нище середнього)  2017-12-07 17:00:06   \n8701       False  Upper-Intermediate (вище середнього)  2017-12-07 17:32:26   \n8702       False                 Advanced (просунутий)  2017-12-07 18:14:59   \n8703       False  Upper-Intermediate (вище середнього)  2017-12-07 21:28:57   \n\n                                             User.Agent   exp  \\\n0     Mozilla/5.0 (Windows NT 10.0; Win64; x64) Appl...   0.5   \n1     Mozilla/5.0 (iPad; CPU OS 10_2_1 like Mac OS X...   0.0   \n2     Mozilla/5.0 (Windows NT 10.0; Win64; x64) Appl...   4.0   \n3     Mozilla/5.0 (Windows NT 6.1; Win64; x64) Apple...   5.0   \n4     Mozilla/5.0 (iPhone; CPU iPhone OS 10_3_2 like...  10.0   \n...                                                 ...   ...   \n8699  Mozilla/5.0 (X11; Ubuntu; Linux x86_64; rv:54....   1.0   \n8700  Mozilla/5.0 (Windows NT 10.0; Win64; x64) Appl...   0.5   \n8701  Mozilla/5.0 (X11; Linux x86_64) AppleWebKit/53...   1.0   \n8702  Mozilla/5.0 (Windows NT 6.1) AppleWebKit/537.3...   6.0   \n8703  Mozilla/5.0 (iPad; CPU OS 10_3_2 like Mac OS X...   7.0   \n\n      current_job_exp  salary  \n0                 0.5     400  \n1                 0.0     430  \n2                 1.0    2500  \n3                 4.0    2000  \n4                 0.5    4500  \n...               ...     ...  \n8699              0.0     700  \n8700              0.5     400  \n8701              0.5     800  \n8702              4.0    2600  \n8703              2.0    5000  \n\n[8704 rows x 20 columns]",
      "text/html": "<div>\n<style scoped>\n    .dataframe tbody tr th:only-of-type {\n        vertical-align: middle;\n    }\n\n    .dataframe tbody tr th {\n        vertical-align: top;\n    }\n\n    .dataframe thead th {\n        text-align: right;\n    }\n</style>\n<table border=\"1\" class=\"dataframe\">\n  <thead>\n    <tr style=\"text-align: right;\">\n      <th></th>\n      <th>N</th>\n      <th>Посада</th>\n      <th>Мова програмування</th>\n      <th>Загальний досвід роботи</th>\n      <th>Досвід роботи на поточному місці</th>\n      <th>Зарплата на місяць</th>\n      <th>Зміна зарплати за 12 місяців</th>\n      <th>Місто</th>\n      <th>Розмір компанії</th>\n      <th>Тип компанії</th>\n      <th>Стать</th>\n      <th>Вік</th>\n      <th>Освіта</th>\n      <th>Ще студент</th>\n      <th>Рівень англійської</th>\n      <th>Дата заповнення</th>\n      <th>User.Agent</th>\n      <th>exp</th>\n      <th>current_job_exp</th>\n      <th>salary</th>\n    </tr>\n  </thead>\n  <tbody>\n    <tr>\n      <th>0</th>\n      <td>1</td>\n      <td>Junior QA engineer</td>\n      <td>NaN</td>\n      <td>0.5</td>\n      <td>0.5</td>\n      <td>400</td>\n      <td>0</td>\n      <td>Харків</td>\n      <td>до 10 осіб</td>\n      <td>Аутсорсингова</td>\n      <td>жіноча</td>\n      <td>20</td>\n      <td>Неповна Вища</td>\n      <td>True</td>\n      <td>Pre-intermediate (нище середнього)</td>\n      <td>2017-12-06 12:38:08</td>\n      <td>Mozilla/5.0 (Windows NT 10.0; Win64; x64) Appl...</td>\n      <td>0.5</td>\n      <td>0.5</td>\n      <td>400</td>\n    </tr>\n    <tr>\n      <th>1</th>\n      <td>2</td>\n      <td>Junior QA engineer</td>\n      <td>NaN</td>\n      <td>менше 3 місяців</td>\n      <td>менше 3 місяців</td>\n      <td>430</td>\n      <td>130</td>\n      <td>Харків</td>\n      <td>більше 1000 осіб</td>\n      <td>Аутсорсингова</td>\n      <td>жіноча</td>\n      <td>21</td>\n      <td>Неповна Вища</td>\n      <td>True</td>\n      <td>Upper-Intermediate (вище середнього)</td>\n      <td>2017-12-06 12:42:51</td>\n      <td>Mozilla/5.0 (iPad; CPU OS 10_2_1 like Mac OS X...</td>\n      <td>0.0</td>\n      <td>0.0</td>\n      <td>430</td>\n    </tr>\n    <tr>\n      <th>2</th>\n      <td>3</td>\n      <td>Software Engineer</td>\n      <td>C#/.NET</td>\n      <td>4</td>\n      <td>1</td>\n      <td>2500</td>\n      <td>800</td>\n      <td>Київ</td>\n      <td>до 1000 осіб</td>\n      <td>Аутсорсингова</td>\n      <td>чоловіча</td>\n      <td>26</td>\n      <td>Вища</td>\n      <td>False</td>\n      <td>Intermediate (середній)</td>\n      <td>2017-12-06 13:02:47</td>\n      <td>Mozilla/5.0 (Windows NT 10.0; Win64; x64) Appl...</td>\n      <td>4.0</td>\n      <td>1.0</td>\n      <td>2500</td>\n    </tr>\n    <tr>\n      <th>3</th>\n      <td>4</td>\n      <td>Software Engineer</td>\n      <td>JavaScript</td>\n      <td>5</td>\n      <td>4</td>\n      <td>2000</td>\n      <td>400</td>\n      <td>Одеса</td>\n      <td>до 200 осіб</td>\n      <td>Продуктова</td>\n      <td>чоловіча</td>\n      <td>30</td>\n      <td>Середня</td>\n      <td>False</td>\n      <td>Pre-intermediate (нище середнього)</td>\n      <td>2017-12-06 13:03:01</td>\n      <td>Mozilla/5.0 (Windows NT 6.1; Win64; x64) Apple...</td>\n      <td>5.0</td>\n      <td>4.0</td>\n      <td>2000</td>\n    </tr>\n    <tr>\n      <th>4</th>\n      <td>5</td>\n      <td>Senior Software Engineer</td>\n      <td>JavaScript</td>\n      <td>10 і більше років</td>\n      <td>0.5</td>\n      <td>4500</td>\n      <td>500</td>\n      <td>Інше</td>\n      <td>до 10 осіб</td>\n      <td>Продуктова</td>\n      <td>чоловіча</td>\n      <td>30</td>\n      <td>Технікум / Коледж</td>\n      <td>False</td>\n      <td>Intermediate (середній)</td>\n      <td>2017-12-06 13:03:47</td>\n      <td>Mozilla/5.0 (iPhone; CPU iPhone OS 10_3_2 like...</td>\n      <td>10.0</td>\n      <td>0.5</td>\n      <td>4500</td>\n    </tr>\n    <tr>\n      <th>...</th>\n      <td>...</td>\n      <td>...</td>\n      <td>...</td>\n      <td>...</td>\n      <td>...</td>\n      <td>...</td>\n      <td>...</td>\n      <td>...</td>\n      <td>...</td>\n      <td>...</td>\n      <td>...</td>\n      <td>...</td>\n      <td>...</td>\n      <td>...</td>\n      <td>...</td>\n      <td>...</td>\n      <td>...</td>\n      <td>...</td>\n      <td>...</td>\n      <td>...</td>\n    </tr>\n    <tr>\n      <th>8699</th>\n      <td>8700</td>\n      <td>QA engineer</td>\n      <td>NaN</td>\n      <td>1</td>\n      <td>менше 3 місяців</td>\n      <td>700</td>\n      <td>700</td>\n      <td>Одеса</td>\n      <td>до 50 осіб</td>\n      <td>Аутсорсингова</td>\n      <td>чоловіча</td>\n      <td>23</td>\n      <td>Вища</td>\n      <td>False</td>\n      <td>Intermediate (середній)</td>\n      <td>2017-12-07 15:45:24</td>\n      <td>Mozilla/5.0 (X11; Ubuntu; Linux x86_64; rv:54....</td>\n      <td>1.0</td>\n      <td>0.0</td>\n      <td>700</td>\n    </tr>\n    <tr>\n      <th>8700</th>\n      <td>8701</td>\n      <td>Marketing</td>\n      <td>NaN</td>\n      <td>0.5</td>\n      <td>0.5</td>\n      <td>400</td>\n      <td>120</td>\n      <td>Київ</td>\n      <td>до 50 осіб</td>\n      <td>Продуктова</td>\n      <td>жіноча</td>\n      <td>22</td>\n      <td>Вища</td>\n      <td>False</td>\n      <td>Pre-intermediate (нище середнього)</td>\n      <td>2017-12-07 17:00:06</td>\n      <td>Mozilla/5.0 (Windows NT 10.0; Win64; x64) Appl...</td>\n      <td>0.5</td>\n      <td>0.5</td>\n      <td>400</td>\n    </tr>\n    <tr>\n      <th>8701</th>\n      <td>8702</td>\n      <td>Junior Software Engineer</td>\n      <td>Ruby/Rails</td>\n      <td>1</td>\n      <td>0.5</td>\n      <td>800</td>\n      <td>500</td>\n      <td>Львів</td>\n      <td>до 10 осіб</td>\n      <td>Аутстафінгова</td>\n      <td>чоловіча</td>\n      <td>30</td>\n      <td>Неповна Вища</td>\n      <td>False</td>\n      <td>Upper-Intermediate (вище середнього)</td>\n      <td>2017-12-07 17:32:26</td>\n      <td>Mozilla/5.0 (X11; Linux x86_64) AppleWebKit/53...</td>\n      <td>1.0</td>\n      <td>0.5</td>\n      <td>800</td>\n    </tr>\n    <tr>\n      <th>8702</th>\n      <td>8703</td>\n      <td>Team lead</td>\n      <td>NaN</td>\n      <td>6</td>\n      <td>4</td>\n      <td>2600</td>\n      <td>0</td>\n      <td>Дніпро</td>\n      <td>більше 1000 осіб</td>\n      <td>Аутсорсингова</td>\n      <td>чоловіча</td>\n      <td>34</td>\n      <td>Вища</td>\n      <td>False</td>\n      <td>Advanced (просунутий)</td>\n      <td>2017-12-07 18:14:59</td>\n      <td>Mozilla/5.0 (Windows NT 6.1) AppleWebKit/537.3...</td>\n      <td>6.0</td>\n      <td>4.0</td>\n      <td>2600</td>\n    </tr>\n    <tr>\n      <th>8703</th>\n      <td>8704</td>\n      <td>Senior Software Engineer</td>\n      <td>Java</td>\n      <td>7</td>\n      <td>2</td>\n      <td>5000</td>\n      <td>800</td>\n      <td>Одеса</td>\n      <td>до 1000 осіб</td>\n      <td>Продуктова</td>\n      <td>чоловіча</td>\n      <td>28</td>\n      <td>Вища</td>\n      <td>False</td>\n      <td>Upper-Intermediate (вище середнього)</td>\n      <td>2017-12-07 21:28:57</td>\n      <td>Mozilla/5.0 (iPad; CPU OS 10_3_2 like Mac OS X...</td>\n      <td>7.0</td>\n      <td>2.0</td>\n      <td>5000</td>\n    </tr>\n  </tbody>\n</table>\n<p>8704 rows × 20 columns</p>\n</div>"
     },
     "execution_count": 84,
     "metadata": {},
     "output_type": "execute_result"
    }
   ],
   "source": [
    "columns_with_nulls = jun.columns[jun.isnull().any()]\n",
    "columns_to_keep = columns_with_nulls.drop(\"Мова програмування\")\n",
    "\n",
    "# Видаляємо стовпці з пропусками, крім \"Мова програмування\"\n",
    "juns = jun.loc[:, ~jun.columns.isin(columns_to_keep)]\n",
    "juns"
   ],
   "metadata": {
    "collapsed": false,
    "ExecuteTime": {
     "end_time": "2024-05-27T17:46:35.221552Z",
     "start_time": "2024-05-27T17:46:35.193333Z"
    }
   },
   "id": "2ed8f0fd4176e32f",
   "execution_count": 84
  },
  {
   "cell_type": "code",
   "outputs": [
    {
     "data": {
      "text/plain": "N                                      0\nПосада                                 0\nМова програмування                  3850\nЗагальний досвід роботи                0\nДосвід роботи на поточному місці       0\nЗарплата на місяць                     0\nЗміна зарплати за 12 місяців           0\nМісто                                  0\nРозмір компанії                        0\nТип компанії                           0\nСтать                                  0\nВік                                    0\nОсвіта                                 0\nЩе студент                             0\nРівень англійської                     0\nДата заповнення                        0\nUser.Agent                             0\nexp                                    0\ncurrent_job_exp                        0\nsalary                                 0\ndtype: int64"
     },
     "execution_count": 85,
     "metadata": {},
     "output_type": "execute_result"
    }
   ],
   "source": [
    "juns.isnull().sum()"
   ],
   "metadata": {
    "collapsed": false,
    "ExecuteTime": {
     "end_time": "2024-05-27T17:46:35.233408Z",
     "start_time": "2024-05-27T17:46:35.223549Z"
    }
   },
   "id": "a724aa022a98bbce",
   "execution_count": 85
  },
  {
   "cell_type": "code",
   "outputs": [
    {
     "data": {
      "text/plain": "Empty DataFrame\nColumns: [N, Посада, Мова програмування, Спеціалізація, Загальний досвід роботи, Досвід роботи на поточному місці, Зарплата на місяць, Зміна зарплати за 12 місяців, Місто, Розмір компанії, Тип компанії, Стать, Вік, Освіта, Університет, Ще студент, Рівень англійської, Предметна область, Дата заповнення, User.Agent, exp, current_job_exp, salary, Валюта, cls]\nIndex: []\n\n[0 rows x 25 columns]",
      "text/html": "<div>\n<style scoped>\n    .dataframe tbody tr th:only-of-type {\n        vertical-align: middle;\n    }\n\n    .dataframe tbody tr th {\n        vertical-align: top;\n    }\n\n    .dataframe thead th {\n        text-align: right;\n    }\n</style>\n<table border=\"1\" class=\"dataframe\">\n  <thead>\n    <tr style=\"text-align: right;\">\n      <th></th>\n      <th>N</th>\n      <th>Посада</th>\n      <th>Мова програмування</th>\n      <th>Спеціалізація</th>\n      <th>Загальний досвід роботи</th>\n      <th>Досвід роботи на поточному місці</th>\n      <th>Зарплата на місяць</th>\n      <th>Зміна зарплати за 12 місяців</th>\n      <th>Місто</th>\n      <th>Розмір компанії</th>\n      <th>...</th>\n      <th>Ще студент</th>\n      <th>Рівень англійської</th>\n      <th>Предметна область</th>\n      <th>Дата заповнення</th>\n      <th>User.Agent</th>\n      <th>exp</th>\n      <th>current_job_exp</th>\n      <th>salary</th>\n      <th>Валюта</th>\n      <th>cls</th>\n    </tr>\n  </thead>\n  <tbody>\n  </tbody>\n</table>\n<p>0 rows × 25 columns</p>\n</div>"
     },
     "execution_count": 86,
     "metadata": {},
     "output_type": "execute_result"
    }
   ],
   "source": [
    "new_jun = jun.dropna()\n",
    "new_jun"
   ],
   "metadata": {
    "collapsed": false,
    "ExecuteTime": {
     "end_time": "2024-05-27T17:46:35.251423Z",
     "start_time": "2024-05-27T17:46:35.234407Z"
    }
   },
   "id": "5a42f87361ac8416",
   "execution_count": 86
  },
  {
   "cell_type": "code",
   "outputs": [
    {
     "data": {
      "text/plain": "(0, 25)"
     },
     "execution_count": 87,
     "metadata": {},
     "output_type": "execute_result"
    }
   ],
   "source": [
    "new_jun.shape"
   ],
   "metadata": {
    "collapsed": false,
    "ExecuteTime": {
     "end_time": "2024-05-27T17:46:35.256994Z",
     "start_time": "2024-05-27T17:46:35.252413Z"
    }
   },
   "id": "745fcf1efa1d534f",
   "execution_count": 87
  },
  {
   "cell_type": "code",
   "outputs": [],
   "source": [],
   "metadata": {
    "collapsed": false,
    "ExecuteTime": {
     "end_time": "2024-05-27T17:46:35.260986Z",
     "start_time": "2024-05-27T17:46:35.257987Z"
    }
   },
   "id": "188e4e0fe374dce3",
   "execution_count": 87
  },
  {
   "cell_type": "code",
   "outputs": [],
   "source": [
    "python_data = jun[jun['Мова програмування'] == 'Python']\n",
    "python_data.to_excel(\"python_data.xlsx\", index=False)\n"
   ],
   "metadata": {
    "collapsed": false,
    "ExecuteTime": {
     "end_time": "2024-05-27T17:46:35.359990Z",
     "start_time": "2024-05-27T17:46:35.260986Z"
    }
   },
   "id": "a52700280fb7c8d",
   "execution_count": 88
  },
  {
   "cell_type": "code",
   "outputs": [
    {
     "data": {
      "text/plain": "(207, 25)"
     },
     "execution_count": 89,
     "metadata": {},
     "output_type": "execute_result"
    }
   ],
   "source": [
    "python_data.shape"
   ],
   "metadata": {
    "collapsed": false,
    "ExecuteTime": {
     "end_time": "2024-05-27T17:46:35.373991Z",
     "start_time": "2024-05-27T17:46:35.360988Z"
    }
   },
   "id": "a4a9ba4c9a822b03",
   "execution_count": 89
  },
  {
   "cell_type": "code",
   "outputs": [],
   "source": [
    "grouped_by_position = jun.groupby(\"Посада\")\n"
   ],
   "metadata": {
    "collapsed": false,
    "ExecuteTime": {
     "end_time": "2024-05-27T17:46:35.401941Z",
     "start_time": "2024-05-27T17:46:35.385996Z"
    }
   },
   "id": "e570d7cca26686a",
   "execution_count": 90
  },
  {
   "cell_type": "code",
   "outputs": [
    {
     "data": {
      "text/plain": "                                           Зарплата на місяць       \n                                                          min    max\nПосада                                                              \nBusiness analyst                                          200   5000\nDBA                                                       380   6000\nData Scientist / Data Analyst                             150   8000\nDesigner                                                  100   4000\nDevOps                                                    194  10000\nDirector of Engineering / Program Director               1500  34000\nERP / CRM                                                 100   6000\nGame designer                                             150   6800\nHR                                                        100   7000\nHTML coder                                                154   3000\nJunior QA engineer                                         96   2000\nJunior Software Engineer                                   75   2600\nMarketing                                                 100   4000\nProduct Manager                                           250   5000\nProject manager                                           190   8000\nQA Tech Lead                                              430   6000\nQA engineer                                               150   2900\nResearch Engineer                                         114   4000\nSales manager                                             120   2300\nScrum Master                                              370   4500\nSecurity Specialist                                       300   4000\nSenior Project Manager / Program Manager                  200   9100\nSenior QA engineer                                        400   6000\nSenior Software Engineer                                  350   9200\nSoftware Engineer                                         100   7000\nSupport                                                   138   3650\nSysadmin                                                   90   3000\nSystem Architect                                          400  10000\nTalent Researcher                                         100   1700\nTeam lead                                                 300   7000\nTechnical Lead                                            500  18000\nTechnical writer                                          200   3000",
      "text/html": "<div>\n<style scoped>\n    .dataframe tbody tr th:only-of-type {\n        vertical-align: middle;\n    }\n\n    .dataframe tbody tr th {\n        vertical-align: top;\n    }\n\n    .dataframe thead tr th {\n        text-align: left;\n    }\n\n    .dataframe thead tr:last-of-type th {\n        text-align: right;\n    }\n</style>\n<table border=\"1\" class=\"dataframe\">\n  <thead>\n    <tr>\n      <th></th>\n      <th colspan=\"2\" halign=\"left\">Зарплата на місяць</th>\n    </tr>\n    <tr>\n      <th></th>\n      <th>min</th>\n      <th>max</th>\n    </tr>\n    <tr>\n      <th>Посада</th>\n      <th></th>\n      <th></th>\n    </tr>\n  </thead>\n  <tbody>\n    <tr>\n      <th>Business analyst</th>\n      <td>200</td>\n      <td>5000</td>\n    </tr>\n    <tr>\n      <th>DBA</th>\n      <td>380</td>\n      <td>6000</td>\n    </tr>\n    <tr>\n      <th>Data Scientist / Data Analyst</th>\n      <td>150</td>\n      <td>8000</td>\n    </tr>\n    <tr>\n      <th>Designer</th>\n      <td>100</td>\n      <td>4000</td>\n    </tr>\n    <tr>\n      <th>DevOps</th>\n      <td>194</td>\n      <td>10000</td>\n    </tr>\n    <tr>\n      <th>Director of Engineering / Program Director</th>\n      <td>1500</td>\n      <td>34000</td>\n    </tr>\n    <tr>\n      <th>ERP / CRM</th>\n      <td>100</td>\n      <td>6000</td>\n    </tr>\n    <tr>\n      <th>Game designer</th>\n      <td>150</td>\n      <td>6800</td>\n    </tr>\n    <tr>\n      <th>HR</th>\n      <td>100</td>\n      <td>7000</td>\n    </tr>\n    <tr>\n      <th>HTML coder</th>\n      <td>154</td>\n      <td>3000</td>\n    </tr>\n    <tr>\n      <th>Junior QA engineer</th>\n      <td>96</td>\n      <td>2000</td>\n    </tr>\n    <tr>\n      <th>Junior Software Engineer</th>\n      <td>75</td>\n      <td>2600</td>\n    </tr>\n    <tr>\n      <th>Marketing</th>\n      <td>100</td>\n      <td>4000</td>\n    </tr>\n    <tr>\n      <th>Product Manager</th>\n      <td>250</td>\n      <td>5000</td>\n    </tr>\n    <tr>\n      <th>Project manager</th>\n      <td>190</td>\n      <td>8000</td>\n    </tr>\n    <tr>\n      <th>QA Tech Lead</th>\n      <td>430</td>\n      <td>6000</td>\n    </tr>\n    <tr>\n      <th>QA engineer</th>\n      <td>150</td>\n      <td>2900</td>\n    </tr>\n    <tr>\n      <th>Research Engineer</th>\n      <td>114</td>\n      <td>4000</td>\n    </tr>\n    <tr>\n      <th>Sales manager</th>\n      <td>120</td>\n      <td>2300</td>\n    </tr>\n    <tr>\n      <th>Scrum Master</th>\n      <td>370</td>\n      <td>4500</td>\n    </tr>\n    <tr>\n      <th>Security Specialist</th>\n      <td>300</td>\n      <td>4000</td>\n    </tr>\n    <tr>\n      <th>Senior Project Manager / Program Manager</th>\n      <td>200</td>\n      <td>9100</td>\n    </tr>\n    <tr>\n      <th>Senior QA engineer</th>\n      <td>400</td>\n      <td>6000</td>\n    </tr>\n    <tr>\n      <th>Senior Software Engineer</th>\n      <td>350</td>\n      <td>9200</td>\n    </tr>\n    <tr>\n      <th>Software Engineer</th>\n      <td>100</td>\n      <td>7000</td>\n    </tr>\n    <tr>\n      <th>Support</th>\n      <td>138</td>\n      <td>3650</td>\n    </tr>\n    <tr>\n      <th>Sysadmin</th>\n      <td>90</td>\n      <td>3000</td>\n    </tr>\n    <tr>\n      <th>System Architect</th>\n      <td>400</td>\n      <td>10000</td>\n    </tr>\n    <tr>\n      <th>Talent Researcher</th>\n      <td>100</td>\n      <td>1700</td>\n    </tr>\n    <tr>\n      <th>Team lead</th>\n      <td>300</td>\n      <td>7000</td>\n    </tr>\n    <tr>\n      <th>Technical Lead</th>\n      <td>500</td>\n      <td>18000</td>\n    </tr>\n    <tr>\n      <th>Technical writer</th>\n      <td>200</td>\n      <td>3000</td>\n    </tr>\n  </tbody>\n</table>\n</div>"
     },
     "execution_count": 91,
     "metadata": {},
     "output_type": "execute_result"
    }
   ],
   "source": [
    "aggregated_data = jun.groupby(\"Посада\").agg({'Зарплата на місяць': ['min','max']})\n",
    "aggregated_data"
   ],
   "metadata": {
    "collapsed": false,
    "ExecuteTime": {
     "end_time": "2024-05-27T17:46:35.422249Z",
     "start_time": "2024-05-27T17:46:35.403959Z"
    }
   },
   "id": "275289eef3bf4487",
   "execution_count": 91
  },
  {
   "cell_type": "code",
   "outputs": [],
   "source": [
    "def fill_avg_salary(row):\n",
    "    return row['Зарплата на місяць'].mean()\n",
    "average_salary = fill_avg_salary(jun)\n",
    "jun['avg'] = average_salary\n"
   ],
   "metadata": {
    "collapsed": false,
    "ExecuteTime": {
     "end_time": "2024-05-27T17:46:35.428244Z",
     "start_time": "2024-05-27T17:46:35.423247Z"
    }
   },
   "id": "583350ad2fb03468",
   "execution_count": 92
  },
  {
   "cell_type": "code",
   "outputs": [],
   "source": [
    "stats_avg = jun['avg'].describe()"
   ],
   "metadata": {
    "collapsed": false,
    "ExecuteTime": {
     "end_time": "2024-05-27T17:46:35.435166Z",
     "start_time": "2024-05-27T17:46:35.429244Z"
    }
   },
   "id": "37b4f3fb0a8b49e6",
   "execution_count": 93
  },
  {
   "cell_type": "code",
   "outputs": [],
   "source": [
    "stats_avg.to_csv(\"average_salary_stats.csv\")"
   ],
   "metadata": {
    "collapsed": false,
    "ExecuteTime": {
     "end_time": "2024-05-27T17:46:35.444092Z",
     "start_time": "2024-05-27T17:46:35.436162Z"
    }
   },
   "id": "bcb56539e028e0e6",
   "execution_count": 94
  }
 ],
 "metadata": {
  "kernelspec": {
   "display_name": "Python 3",
   "language": "python",
   "name": "python3"
  },
  "language_info": {
   "codemirror_mode": {
    "name": "ipython",
    "version": 2
   },
   "file_extension": ".py",
   "mimetype": "text/x-python",
   "name": "python",
   "nbconvert_exporter": "python",
   "pygments_lexer": "ipython2",
   "version": "2.7.6"
  }
 },
 "nbformat": 4,
 "nbformat_minor": 5
}
