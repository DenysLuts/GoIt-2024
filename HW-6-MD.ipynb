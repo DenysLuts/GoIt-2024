{
 "cells": [
  {
   "cell_type": "code",
   "execution_count": 2,
   "id": "initial_id",
   "metadata": {
    "collapsed": true,
    "ExecuteTime": {
     "end_time": "2024-06-02T16:34:31.191592Z",
     "start_time": "2024-06-02T16:34:30.495671Z"
    }
   },
   "outputs": [],
   "source": [
    "import pandas as pd\n",
    "import numpy as np\n",
    "from sklearn.linear_model import LinearRegression"
   ]
  },
  {
   "cell_type": "code",
   "outputs": [
    {
     "data": {
      "text/plain": "      price  area  bedrooms  bathrooms  stories mainroad guestroom basement  \\\n0  13300000  7420         4          2        3      yes        no       no   \n1  12250000  8960         4          4        4      yes        no       no   \n2  12250000  9960         3          2        2      yes        no      yes   \n3  12215000  7500         4          2        2      yes        no      yes   \n4  11410000  7420         4          1        2      yes       yes      yes   \n\n  hotwaterheating airconditioning  parking prefarea furnishingstatus  \n0              no             yes        2      yes        furnished  \n1              no             yes        3       no        furnished  \n2              no              no        2      yes   semi-furnished  \n3              no             yes        3      yes        furnished  \n4              no             yes        2       no        furnished  ",
      "text/html": "<div>\n<style scoped>\n    .dataframe tbody tr th:only-of-type {\n        vertical-align: middle;\n    }\n\n    .dataframe tbody tr th {\n        vertical-align: top;\n    }\n\n    .dataframe thead th {\n        text-align: right;\n    }\n</style>\n<table border=\"1\" class=\"dataframe\">\n  <thead>\n    <tr style=\"text-align: right;\">\n      <th></th>\n      <th>price</th>\n      <th>area</th>\n      <th>bedrooms</th>\n      <th>bathrooms</th>\n      <th>stories</th>\n      <th>mainroad</th>\n      <th>guestroom</th>\n      <th>basement</th>\n      <th>hotwaterheating</th>\n      <th>airconditioning</th>\n      <th>parking</th>\n      <th>prefarea</th>\n      <th>furnishingstatus</th>\n    </tr>\n  </thead>\n  <tbody>\n    <tr>\n      <th>0</th>\n      <td>13300000</td>\n      <td>7420</td>\n      <td>4</td>\n      <td>2</td>\n      <td>3</td>\n      <td>yes</td>\n      <td>no</td>\n      <td>no</td>\n      <td>no</td>\n      <td>yes</td>\n      <td>2</td>\n      <td>yes</td>\n      <td>furnished</td>\n    </tr>\n    <tr>\n      <th>1</th>\n      <td>12250000</td>\n      <td>8960</td>\n      <td>4</td>\n      <td>4</td>\n      <td>4</td>\n      <td>yes</td>\n      <td>no</td>\n      <td>no</td>\n      <td>no</td>\n      <td>yes</td>\n      <td>3</td>\n      <td>no</td>\n      <td>furnished</td>\n    </tr>\n    <tr>\n      <th>2</th>\n      <td>12250000</td>\n      <td>9960</td>\n      <td>3</td>\n      <td>2</td>\n      <td>2</td>\n      <td>yes</td>\n      <td>no</td>\n      <td>yes</td>\n      <td>no</td>\n      <td>no</td>\n      <td>2</td>\n      <td>yes</td>\n      <td>semi-furnished</td>\n    </tr>\n    <tr>\n      <th>3</th>\n      <td>12215000</td>\n      <td>7500</td>\n      <td>4</td>\n      <td>2</td>\n      <td>2</td>\n      <td>yes</td>\n      <td>no</td>\n      <td>yes</td>\n      <td>no</td>\n      <td>yes</td>\n      <td>3</td>\n      <td>yes</td>\n      <td>furnished</td>\n    </tr>\n    <tr>\n      <th>4</th>\n      <td>11410000</td>\n      <td>7420</td>\n      <td>4</td>\n      <td>1</td>\n      <td>2</td>\n      <td>yes</td>\n      <td>yes</td>\n      <td>yes</td>\n      <td>no</td>\n      <td>yes</td>\n      <td>2</td>\n      <td>no</td>\n      <td>furnished</td>\n    </tr>\n  </tbody>\n</table>\n</div>"
     },
     "execution_count": 3,
     "metadata": {},
     "output_type": "execute_result"
    }
   ],
   "source": [
    "# Load the dataset\n",
    "data = pd.read_csv('Housing.csv')\n",
    "\n",
    "# Display the first few rows of the dataset\n",
    "data.head()\n"
   ],
   "metadata": {
    "collapsed": false,
    "ExecuteTime": {
     "end_time": "2024-06-02T16:34:31.224165Z",
     "start_time": "2024-06-02T16:34:31.192611Z"
    }
   },
   "id": "1a1a9c5025412036",
   "execution_count": 3
  },
  {
   "cell_type": "code",
   "outputs": [],
   "source": [
    "# Select the relevant columns and normalize them\n",
    "X = data[['area', 'bedrooms', 'bathrooms']].values\n",
    "y = data['price'].values\n",
    "\n",
    "# Normalize the features\n",
    "X = (X - X.mean(axis=0)) / X.std(axis=0)\n",
    "y = (y - y.mean()) / y.std()\n",
    "\n",
    "# Add a column of ones for the intercept term\n",
    "X = np.hstack((np.ones((X.shape[0], 1)), X))\n"
   ],
   "metadata": {
    "collapsed": false,
    "ExecuteTime": {
     "end_time": "2024-06-02T16:34:31.237720Z",
     "start_time": "2024-06-02T16:34:31.226159Z"
    }
   },
   "id": "190e8c00ecbe9090",
   "execution_count": 4
  },
  {
   "cell_type": "code",
   "outputs": [],
   "source": [
    "# Initialize the parameters\n",
    "w = np.zeros(X.shape[1])\n",
    "\n",
    "# Hypothesis function\n",
    "def hypothesis(X, w):\n",
    "    return np.dot(X, w)\n",
    "\n",
    "# Loss function\n",
    "def compute_loss(X, y, w):\n",
    "    m = len(y)\n",
    "    predictions = hypothesis(X, w)\n",
    "    loss = (1/(2*m)) * np.sum((predictions - y)**2)\n",
    "    return loss\n",
    "\n",
    "# Gradient descent step\n",
    "def gradient_descent_step(X, y, w, learning_rate):\n",
    "    m = len(y)\n",
    "    predictions = hypothesis(X, w)\n",
    "    gradient = (1/m) * np.dot(X.T, (predictions - y))\n",
    "    w = w - learning_rate * gradient\n",
    "    return w\n",
    "\n",
    "# Train the model\n",
    "def train_model(X, y, learning_rate, num_iterations):\n",
    "    w = np.zeros(X.shape[1])\n",
    "    for i in range(num_iterations):\n",
    "        w = gradient_descent_step(X, y, w, learning_rate)\n",
    "    return w\n"
   ],
   "metadata": {
    "collapsed": false,
    "ExecuteTime": {
     "end_time": "2024-06-02T16:34:31.248408Z",
     "start_time": "2024-06-02T16:34:31.240722Z"
    }
   },
   "id": "f50691f6a6993347",
   "execution_count": 5
  },
  {
   "cell_type": "code",
   "outputs": [
    {
     "name": "stdout",
     "output_type": "stream",
     "text": [
      "Optimal parameters (Gradient Descent): [3.02901435e-16 4.39444124e-01 1.60696001e-01 3.72187885e-01]\n"
     ]
    }
   ],
   "source": [
    "# Parameters for training\n",
    "learning_rate = 0.01\n",
    "num_iterations = 1000\n",
    "\n",
    "# Train the model\n",
    "w_optimal = train_model(X, y, learning_rate, num_iterations)\n",
    "print(\"Optimal parameters (Gradient Descent):\", w_optimal)\n"
   ],
   "metadata": {
    "collapsed": false,
    "ExecuteTime": {
     "end_time": "2024-06-02T16:34:31.269628Z",
     "start_time": "2024-06-02T16:34:31.249401Z"
    }
   },
   "id": "91ac73daac471d82",
   "execution_count": 6
  },
  {
   "cell_type": "code",
   "outputs": [
    {
     "name": "stdout",
     "output_type": "stream",
     "text": [
      "Optimal parameters (Analytical Solution): [3.15434935e-16 4.39452085e-01 1.60528660e-01 3.72344423e-01]\n"
     ]
    }
   ],
   "source": [
    "# Analytical solution\n",
    "def analytical_solution(X, y):\n",
    "    return np.linalg.inv(X.T @ X) @ X.T @ y\n",
    "\n",
    "w_analytical = analytical_solution(X, y)\n",
    "print(\"Optimal parameters (Analytical Solution):\", w_analytical)\n"
   ],
   "metadata": {
    "collapsed": false,
    "ExecuteTime": {
     "end_time": "2024-06-02T16:34:31.285294Z",
     "start_time": "2024-06-02T16:34:31.270624Z"
    }
   },
   "id": "6c931d4cd2c5d300",
   "execution_count": 7
  },
  {
   "cell_type": "code",
   "outputs": [
    {
     "name": "stdout",
     "output_type": "stream",
     "text": [
      "Coefficients (scikit-learn): [0.         0.43945209 0.16052866 0.37234442]\n",
      "Intercept (scikit-learn): 3.1636120159920053e-16\n"
     ]
    }
   ],
   "source": [
    "# Create and train the model using scikit-learn\n",
    "reg = LinearRegression().fit(X, y)\n",
    "print(\"Coefficients (scikit-learn):\", reg.coef_)\n",
    "print(\"Intercept (scikit-learn):\", reg.intercept_)\n"
   ],
   "metadata": {
    "collapsed": false,
    "ExecuteTime": {
     "end_time": "2024-06-02T16:34:31.293289Z",
     "start_time": "2024-06-02T16:34:31.286288Z"
    }
   },
   "id": "bac95a460ded4f66",
   "execution_count": 8
  }
 ],
 "metadata": {
  "kernelspec": {
   "display_name": "Python 3",
   "language": "python",
   "name": "python3"
  },
  "language_info": {
   "codemirror_mode": {
    "name": "ipython",
    "version": 2
   },
   "file_extension": ".py",
   "mimetype": "text/x-python",
   "name": "python",
   "nbconvert_exporter": "python",
   "pygments_lexer": "ipython2",
   "version": "2.7.6"
  }
 },
 "nbformat": 4,
 "nbformat_minor": 5
}
